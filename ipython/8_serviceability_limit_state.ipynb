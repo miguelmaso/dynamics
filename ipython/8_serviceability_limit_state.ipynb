{
 "cells": [
  {
   "cell_type": "markdown",
   "metadata": {},
   "source": [
    "# Serviceability limit state\n",
    "\n",
    "Application example of SCI P354, *Design of Floors for Vibration* and comparison against a Footfall analysis with Robot Structural Analysis, as well as vibration results with Calculatis by Stora Enso.\n",
    "\n",
    "## Simply supported uni-directional floor\n",
    "\n",
    "This example consists on a simply supported uni-directional concrete floor on which a person is walking. The floor is analyzed as a one meter width simply supported beam and the walker's weight is distributed over the total floor width."
   ]
  },
  {
   "cell_type": "code",
   "execution_count": null,
   "metadata": {},
   "outputs": [],
   "source": [
    "import numpy as np\n",
    "import matplotlib.pyplot as plt"
   ]
  },
  {
   "cell_type": "markdown",
   "metadata": {},
   "source": [
    "## Analysis definitions"
   ]
  },
  {
   "cell_type": "code",
   "execution_count": null,
   "metadata": {},
   "outputs": [],
   "source": [
    "t_end = 8  # s\n",
    "sampling_points = 2000\n",
    "gravity = 9.81  # m/s^2\n",
    "t = np.linspace(0, t_end, sampling_points)\n",
    "dt = t_end / sampling_points"
   ]
  },
  {
   "cell_type": "markdown",
   "metadata": {},
   "source": [
    "## Structure properties\n",
    "\n",
    "Using Rayleigh's method with an appropriate shape function corresponding for the first mode of vibration,\n",
    "$$\n",
    "\\psi = \\sin\\left(\\frac{\\pi x}{L}\\right)\n",
    "$$\n",
    "the modal stifness, mass and frequency read\n",
    "$$\n",
    "k = \\int_0^L EI\\psi''^2 dx = \\frac{\\pi^4EI}{2L^3} \\quad \\text{m/N per m width} \\\\\n",
    "m = \\int_0^L \\rho A\\psi^2 dx = \\frac{\\rho AL}{2} \\quad \\text{kg per m width} \\\\\n",
    "\\omega = \\sqrt{\\frac{k}{m}} = \\frac{\\pi^2}{L^2}\\sqrt{\\frac{EI}{\\rho A}} \\quad \\text{rad/s}\n",
    "$$"
   ]
  },
  {
   "cell_type": "code",
   "execution_count": null,
   "metadata": {},
   "outputs": [],
   "source": [
    "class Structure:\n",
    "\n",
    "    floor_span = 6  # m\n",
    "    floor_width = 1  # m\n",
    "    floor_thickness = 0.3  # m\n",
    "    imposed_load = 4000  # N/m^2\n",
    "    material_density = 2400  # kg/m^3\n",
    "    Young_modulus = 2.7e10  # Pa (concrete)\n",
    "    damping = 0.05  # %\n",
    "    \n",
    "    @property\n",
    "    def mass(self):\n",
    "        linear_density = self.material_density * self.floor_thickness + self.imposed_load / gravity * self.floor_width  # kg/m\n",
    "        return 0.5 * linear_density * self.floor_span  # kg per m width\n",
    "    \n",
    "    @property\n",
    "    def stiffness(self):\n",
    "        inertia = 1 / 12 * self.floor_thickness**3  # m^4 per m width\n",
    "        return 0.5 * np.pi**4 * self.Young_modulus * inertia / self.floor_span**3 * self.floor_width  # m/N\n",
    "\n",
    "    @property\n",
    "    def frequency(self):\n",
    "        return np.sqrt(self.stiffness / self.mass)  # rad/s\n",
    "\n",
    "structure = Structure()\n",
    "print(f'Floor frequency: {0.5*structure.frequency/np.pi:.2f} Hz')"
   ]
  },
  {
   "cell_type": "markdown",
   "metadata": {},
   "source": [
    "## Excitation\n",
    "\n",
    "The nature of the excitation can be of different natures: walking, rythmic, indivudual or group. In this example, a single person walking is considered, which is the most common case for a residential area. The exitation function is defined using the a Fourier series decomposition, where the coefficients are defined in Table 3.1 of SCI P354.\n",
    "\n",
    "Finally, the total time where the force is applied depends on the walking path length and the walking velocity. The walking velocity depends on the frequency according to the expression\n",
    "$$\n",
    "v = 1.67f^2 - 4.83*f + 4.5\n",
    "$$"
   ]
  },
  {
   "cell_type": "code",
   "execution_count": null,
   "metadata": {},
   "outputs": [],
   "source": [
    "walker_weight = 76  # kg\n",
    "natural_walking_frequency = 2  # Hz\n",
    "walking_frequency = 2 * np.pi * natural_walking_frequency  # rad/s\n",
    "walking_velocity = 1.67 * natural_walking_frequency**2 - 4.83 * natural_walking_frequency + 4.5  # m/s\n",
    "walking_path_length = 5  # m\n",
    "walking_time = walking_path_length / walking_velocity\n",
    "walking_frequencies = [walking_frequency * ni for ni in [1, 2, 3, 4]]\n",
    "f = walking_frequencies\n",
    "a = []\n",
    "a.append(0.436 * (1 * natural_walking_frequency - 0.95))\n",
    "a.append(0.006 * (2 * natural_walking_frequency + 12.3))\n",
    "a.append(0.007 * (3 * natural_walking_frequency + 5.20))\n",
    "a.append(0.007 * (4 * natural_walking_frequency + 2.00))\n",
    "p = [0, -0.5*np.pi, np.pi, 0.5*np.pi]\n",
    "force = sum(walker_weight * gravity * ai * np.sin(fi * t + pi) for ai, fi, pi in zip(a, f, p))\n",
    "force_total = sum([force, walker_weight * gravity * np.ones(sampling_points)])\n",
    "print(f'Walking time: {walking_time:.2f} s')\n",
    "print(f'Walking frequency: {natural_walking_frequency:.2f} Hz')\n",
    "print(f'Walking velocity: {walking_velocity:.2f} m/s')\n",
    "print(f'Fourier terms: {\", \".join(f\"{ai:.2f}\" for ai in a)}')"
   ]
  },
  {
   "cell_type": "code",
   "execution_count": null,
   "metadata": {},
   "outputs": [],
   "source": [
    "plt.figure(figsize=(15,3))\n",
    "plt.subplot(1,2,1)\n",
    "plt.plot(t, force)\n",
    "plt.xlabel('Time (s)')\n",
    "plt.ylabel('Force (N)')\n",
    "plt.title('Dynamic component of the excitation (4 Fourier terms)')\n",
    "plt.subplot(1,2,2)\n",
    "plt.plot(t, force_total)\n",
    "plt.plot([0, t_end], [walker_weight*gravity, walker_weight*gravity], color='black', lw=.5)\n",
    "plt.ylim((0, 1.05*max(force_total)))\n",
    "plt.xlabel('Time (s)')\n",
    "plt.ylabel('Force (N)')\n",
    "plt.title('Total excitation force (4 Fourier terms)')\n",
    "plt.show()"
   ]
  },
  {
   "cell_type": "markdown",
   "metadata": {},
   "source": [
    "## Weighting function\n",
    "\n",
    "The weighting function represents the human sensitivity for the perception of different frequencies. This empirical function has the following form:\n",
    "\n",
    "![image](img/weighting_curve_Wb.png)\n",
    "\n",
    "$$\n",
    "W_b = \\begin{cases}\n",
    "0.4 & 1 < f < 2 \\ \\text{Hz} \\\\\n",
    "f/5 & 2 < f < 5 \\ \\text{Hz} \\\\\n",
    "1.0 & 5 < f < 16 \\ \\text{Hz} \\\\\n",
    "16/f & f > 16 \\ \\text{Hz}\n",
    "\\end{cases}\n",
    "$$\n",
    "\n",
    "Since the dynamic response of the excitation is the superposition of multiple frequencies, rather than multiplying the acceleration response by the weighting function, here we will multiply each component of the force by the corresponding weigthing value."
   ]
  },
  {
   "cell_type": "code",
   "execution_count": null,
   "metadata": {},
   "outputs": [],
   "source": [
    "def Wb(frequency):\n",
    "    f = 0.5 * frequency / np.pi\n",
    "    if f < 2:\n",
    "        return 0.4\n",
    "    elif f < 5:\n",
    "        return 0.2 * f\n",
    "    elif f < 16:\n",
    "        return 1.0\n",
    "    else:\n",
    "        return 16.0 / f\n",
    "\n",
    "force = sum(walker_weight * gravity * ai * np.sin(fi * t + pi) * Wb(fi) for ai, fi, pi in zip(a, f, p))\n",
    "force_total = sum([force, walker_weight * gravity * np.ones(sampling_points)])"
   ]
  },
  {
   "cell_type": "markdown",
   "metadata": {},
   "source": [
    "## Stationary dynamic respone\n",
    "\n",
    "The stationary (or resonant) response is obtained multiplying the static response by the dynamic magnification factor H and the weighting function W. After substitution, the starionary acceleration reads:\n",
    "\n",
    "$$\n",
    "a_{rms} = \\psi_{e,n} \\psi_{r,n} \\frac{F a_h}{m_n \\sqrt{2}}H_{a,h,n}W_{b,h}\n",
    "$$\n",
    "\n",
    "Where the subindex $h$ stands for the $i^{th}$ harmonic and $n$ stands for the $i^{th}$ mode of vibration. $\\psi_e$ and $\\psi_r$ are the shape functions evaluated at corresponding the excitation and response points. For this particular case, both excitation and response points are at the midspan and $\\psi_e=\\psi_r=1$. Finally, the dynamic magnification factor for accelerations is defined as\n",
    "\n",
    "$$\n",
    "H_a = \\frac{\\gamma^2}{\\sqrt{(1-\\gamma^2)^2 + 4\\xi^2\\gamma^2}}\n",
    "$$\n",
    "\n",
    "with $\\gamma=\\Omega_h/\\omega_n$, where $\\Omega_h$ is the excitation frequency for the $h^{th}$ harmonic and $\\omega_n$ is the response frequency for the $n^{th}$ mode."
   ]
  },
  {
   "cell_type": "code",
   "execution_count": null,
   "metadata": {},
   "outputs": [],
   "source": [
    "acc_stat = []\n",
    "for ai, fi in zip(a, f):\n",
    "    gi = fi / structure.frequency\n",
    "    H_ui = 1 / np.sqrt((1 - gi**2)**2 + 4 * structure.damping**2 * gi**2)\n",
    "    H_ai = gi**2 / np.sqrt((1 - gi**2)**2 + 4 * structure.damping**2 * gi**2)\n",
    "    a_stat_i = ai * walker_weight * gravity / structure.mass * H_ai * Wb(fi)\n",
    "    acc_stat.append(a_stat_i)\n",
    "a_peak = sum(acc_stat)"
   ]
  },
  {
   "cell_type": "markdown",
   "metadata": {},
   "source": [
    "## Impulsive response\n",
    "\n",
    "When the natural frequency is much greater than the walking frequency ($f_1 > 4f_w$), the equivalent impulse is defined by the following empirical formula (SCI P354, Eq (18)):\n",
    "$$\n",
    "F_I = 60\\frac{f_w^{1.43}}{f_1^{1.3}}\\frac{Q}{700}\n",
    "$$\n",
    "where $f_w$ is the natural walking frequency, $f_1$ is the first natural frequency and $Q$ is an 'average person' weight, taken as $760N$.\n",
    "\n",
    "Finally, the peak acceleration response for an impulsive excitation is\n",
    "$$\n",
    "a_{I,peak} = \\omega_1 \\frac{F_I}{m_1}\n",
    "$$\n",
    "This value may be multiplied by appropriate shape functions $\\psi$ and weighting function W."
   ]
  },
  {
   "cell_type": "code",
   "execution_count": null,
   "metadata": {},
   "outputs": [],
   "source": [
    "nat_fh = 0.5 * walking_frequency / np.pi\n",
    "nat_f1 = 0.5 * structure.frequency / np.pi\n",
    "impulse = 60 * nat_fh**1.43 / nat_f1**1.3 * walker_weight * gravity / 700\n",
    "a_peak_imp = structure.frequency * impulse / structure.mass\n",
    "T_imp = 2 * np.pi / walking_frequency\n",
    "a_imp = a_peak_imp * np.sin(structure.frequency*t) * np.exp(-structure.damping*structure.frequency*t)\n",
    "a_imp_transient_rms = a_imp[0:np.searchsorted(t, T_imp)]\n",
    "a_rms_imp = np.sqrt(np.mean(a_imp_transient_rms**2))\n",
    "RF_imp = a_rms_imp / 0.005\n",
    "plt.figure(figsize=(15,5))\n",
    "plt.plot(t,a_imp, label='Impulsive response')\n",
    "plt.plot([0, t_end], [a_peak_imp, a_peak_imp], color='orange', label=f'Peak acceleration = {100*a_peak_imp:.2f} cm/s2')\n",
    "plt.plot([0, t_end], [-a_peak_imp, -a_peak_imp], color='orange')\n",
    "plt.plot([0, T_imp], [a_rms_imp, a_rms_imp], color='orange', ls='--', label=f'RMS = {100*a_rms_imp:.2f} cm/s2')\n",
    "plt.plot([0, T_imp], [-a_rms_imp, -a_rms_imp], color='orange', ls='--')\n",
    "plt.axvspan(0, T_imp, color='gainsboro', label='Structure period')\n",
    "plt.text(0.5*T_imp, a_rms_imp+(a_peak_imp/10), f'RF = {RF_imp:.2f}', bbox=dict(alpha=.8, ec='gray', fc='white'))\n",
    "plt.title('Impulsive response')\n",
    "plt.xlabel('Time (s)')\n",
    "plt.ylabel('Acceleration (m/s2)')\n",
    "plt.legend(framealpha=.95)\n",
    "plt.show()"
   ]
  },
  {
   "cell_type": "markdown",
   "metadata": {},
   "source": [
    "## Transient dynamic response\n",
    "The transient dynamic response can be obtained by means of the Duhamel convolution\n",
    "$$\n",
    "u(t) = \\frac{1}{m\\omega} \\int_0^t F(\\tau) u_{free}(t-\\tau) d\\tau\n",
    "$$\n",
    "where the free response is given by\n",
    "$$\n",
    "u_{free}(t) = e^{-\\xi\\omega t}\\sin(\\omega t)\n",
    "$$"
   ]
  },
  {
   "cell_type": "code",
   "execution_count": null,
   "metadata": {},
   "outputs": [],
   "source": [
    "u_free = np.exp(-structure.damping * structure.frequency * t) * np.sin(structure.frequency * t)\n",
    "u_transient = np.convolve(force, u_free, 'full') * dt / structure.mass / structure.frequency\n",
    "u_transient = u_transient[:len(u_transient)//2+1]\n",
    "a_transient = np.diff(u_transient, 2) / dt**2\n",
    "a_transient = np.append(a_transient, a_transient[-1])\n",
    "a_transient = np.append(a_transient, a_transient[-1])\n",
    "walking_end_idx = np.searchsorted(t, walking_time)\n",
    "a_transient_rms = a_transient[0:walking_end_idx]\n",
    "transient_factor_fct = 1 -np.exp(-structure.damping * structure.frequency * t)\n",
    "transient_factor = transient_factor_fct[:walking_end_idx]\n",
    "a_rms = np.sqrt(np.mean((a_transient_rms*transient_factor)**2))\n",
    "a_max = max(a_transient)\n",
    "plt.figure(figsize=(15,5))\n",
    "plt.plot(t, a_transient, label='Transient')\n",
    "plt.plot(t, transient_factor_fct * a_peak, 'black', lw=1, label='Ressonance bulid-up factor')\n",
    "plt.plot([0, t_end], [a_peak, a_peak], 'orange', label=f'Stationary peak acceleration = {100*a_peak:.2f} cm/s2')\n",
    "plt.plot([0, t_end], [-a_peak, -a_peak], 'orange')\n",
    "plt.plot([0, walking_time], [a_rms, a_rms], 'orange', ls='--', label=f'Transient RMS acceleration = {100*a_rms:.2f} cm/s2')\n",
    "plt.plot([0, walking_time], [-a_rms, -a_rms], 'orange', ls='--')\n",
    "plt.plot(t, a_peak * u_free, color='maroon', lw=1, label='Free response')\n",
    "plt.text(0.5*walking_time, a_rms+(a_max/10), f'RF = {a_rms/0.005:.2f}', bbox=dict(alpha=.8, ec='gray', fc='white'))\n",
    "plt.axvspan(0, walking_time, color='gainsboro', label='Walking path length (t=Lp/v)')\n",
    "plt.title('Transient response')\n",
    "plt.xlabel('Time (s)')\n",
    "plt.ylabel('Acceleration (m/s2)')\n",
    "plt.legend(loc='upper right', framealpha=.95)\n",
    "plt.show()"
   ]
  }
 ],
 "metadata": {
  "kernelspec": {
   "display_name": "Python 3",
   "language": "python",
   "name": "python3"
  },
  "language_info": {
   "codemirror_mode": {
    "name": "ipython",
    "version": 3
   },
   "file_extension": ".py",
   "mimetype": "text/x-python",
   "name": "python",
   "nbconvert_exporter": "python",
   "pygments_lexer": "ipython3",
   "version": "3.11.5"
  }
 },
 "nbformat": 4,
 "nbformat_minor": 2
}
