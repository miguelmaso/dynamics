{
 "cells": [
  {
   "attachments": {},
   "cell_type": "markdown",
   "metadata": {},
   "source": [
    "# Fourier series\n",
    "\n",
    "Some theory. Linking to problem 10 from the collection."
   ]
  },
  {
   "attachments": {},
   "cell_type": "markdown",
   "metadata": {},
   "source": [
    "## Definition of the time domain"
   ]
  },
  {
   "cell_type": "code",
   "execution_count": 27,
   "metadata": {},
   "outputs": [],
   "source": [
    "import numpy as np\n",
    "t_end = 2\n",
    "t = np.linspace(0,t_end,100)"
   ]
  },
  {
   "attachments": {},
   "cell_type": "markdown",
   "metadata": {},
   "source": [
    "## Definition of the pulse"
   ]
  },
  {
   "cell_type": "code",
   "execution_count": 28,
   "metadata": {},
   "outputs": [],
   "source": [
    "mg = 75*9.81  # person's weight\n",
    "frequency = 2  # Hz\n",
    "contact_ratio = 0.5\n",
    "Tf = 1/frequency\n",
    "\n",
    "def steps(t):\n",
    "    if t%Tf < contact_ratio*Tf:\n",
    "        return np.pi/2/contact_ratio * np.sin(np.pi*t/contact_ratio/Tf)\n",
    "    else:\n",
    "        return 0\n",
    "steps_func = np.vectorize(steps)\n",
    "\n",
    "F = steps_func(t)\n"
   ]
  },
  {
   "attachments": {},
   "cell_type": "markdown",
   "metadata": {},
   "source": [
    "## Graphical visualization of the pulse"
   ]
  },
  {
   "cell_type": "code",
   "execution_count": 29,
   "metadata": {},
   "outputs": [
    {
     "data": {
      "image/png": "[encoded data removed]",
      "text/plain": [
       "<Figure size 432x288 with 1 Axes>"
      ]
     },
     "metadata": {
      "needs_background": "light"
     },
     "output_type": "display_data"
    }
   ],
   "source": [
    "import matplotlib.pyplot as plt\n",
    "plt.plot(t,F)\n",
    "plt.show()"
   ]
  },
  {
   "attachments": {},
   "cell_type": "markdown",
   "metadata": {},
   "source": [
    "## Calculation of the Fourier terms"
   ]
  },
  {
   "cell_type": "code",
   "execution_count": 30,
   "metadata": {},
   "outputs": [],
   "source": [
    "import scipy.integrate as spi\n",
    "n_terms = 4\n",
    "n_cycles = t_end / Tf\n",
    "\n",
    "An = []\n",
    "Bn = []\n",
    "\n",
    "for i in range(1,n_terms+1):\n",
    "    an = 2*spi.trapezoid(F*np.cos(2*np.pi*i*t/Tf), t) / t_end\n",
    "    bn = 2*spi.trapezoid(F*np.sin(2*np.pi*i*t/Tf), t) / t_end\n",
    "    An.append(an)\n",
    "    Bn.append(bn)"
   ]
  },
  {
   "cell_type": "code",
   "execution_count": 31,
   "metadata": {},
   "outputs": [
    {
     "name": "stdout",
     "output_type": "stream",
     "text": [
      "[-0.0005036689435981046, -0.6668345365823959, -0.000504685037858863, -0.1335013047431193]\n",
      "[1.5707963267948966, -3.8857805861880474e-16, -1.1102230246251557e-16, 1.054711873393899e-15]\n"
     ]
    }
   ],
   "source": [
    "print(An)\n",
    "print(Bn)"
   ]
  }
 ],
 "metadata": {
  "kernelspec": {
   "display_name": "Python 3",
   "language": "python",
   "name": "python3"
  },
  "language_info": {
   "codemirror_mode": {
    "name": "ipython",
    "version": 3
   },
   "file_extension": ".py",
   "mimetype": "text/x-python",
   "name": "python",
   "nbconvert_exporter": "python",
   "pygments_lexer": "ipython3",
   "version": "3.8.10"
  },
  "orig_nbformat": 4,
  "vscode": {
   "interpreter": {
    "hash": "916dbcbb3f70747c44a77c7bcd40155683ae19c65e1c03b4aa3499c5328201f1"
   }
  }
 },
 "nbformat": 4,
 "nbformat_minor": 2
}
