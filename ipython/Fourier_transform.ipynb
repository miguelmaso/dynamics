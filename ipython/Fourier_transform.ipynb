{
  "cells": [
    {
      "cell_type": "markdown",
      "metadata": {
        "id": "rjpOIl915FhT"
      },
      "source": [
        "# Fourier transform"
      ]
    },
    {
      "cell_type": "markdown",
      "metadata": {},
      "source": [
        "The Fourier transforms allows to determine which are the main frequencies of a signal. It is possible to work with a periodic set of data or with a recorded signal, like the acceleration measured from a structure."
      ]
    },
    {
      "cell_type": "markdown",
      "metadata": {},
      "source": [
        "### Function-generated data\n",
        "As a first approach, generate a timeseries using a periodic function"
      ]
    },
    {
      "cell_type": "code",
      "execution_count": null,
      "metadata": {
        "id": "dHpMfv1D5DvM"
      },
      "outputs": [],
      "source": [
        "import numpy as np\n",
        "t = np.linspace(start=0, stop=10, num=100)\n",
        "a = np.sin(3.2*t) + 0.5*np.sin(5.4*t)\n",
        "\n",
        "import matplotlib.pyplot as plt\n",
        "plt.plot(t, a)\n",
        "plt.show()"
      ]
    },
    {
      "cell_type": "markdown",
      "metadata": {},
      "source": [
        "### Read from a dataset\n",
        "After finishing the Fourier transform (see cells below), got again to this cell and overwrite the timeseries using data from a file. You can use the function `numpy.loadtxt`"
      ]
    },
    {
      "cell_type": "code",
      "execution_count": null,
      "metadata": {},
      "outputs": [],
      "source": [
        "# Import data\n",
        "t, a = ...\n",
        "plt.plot(t, a)\n",
        "plt.show()"
      ]
    },
    {
      "cell_type": "markdown",
      "metadata": {},
      "source": [
        "The output of the transform is a complex-valued function of frequency. It allows to transform a function from time domain to frequency domain ($f(t)\\rightarrow\\hat{f}(\\omega)$),\n",
        "$$\n",
        "\\hat f(\\omega) = \\int_{-\\infty}^\\infty f(t)e^{-i\\omega t} dt\n",
        "$$\n",
        "\n",
        "Note: the Fourier transform can be interpreted as a real cosine and an imaginary sine. Additionally, the frequencies can be both positive and negative. Then, we need to clean the output returned by the Python library. The operator `[:n//2]` will take the first half of the output."
      ]
    },
    {
      "cell_type": "code",
      "execution_count": 2,
      "metadata": {
        "id": "8bbyMfwu4-cN"
      },
      "outputs": [],
      "source": [
        "from scipy.fft import fft, fftfreq\n",
        "n = len(t)\n",
        "dt = t[1] - t[0]\n",
        "spectrum = fft(a)[:n//2]\n",
        "frequencies = fftfreq(n, dt/2/np.pi)[:n//2]"
      ]
    },
    {
      "cell_type": "code",
      "execution_count": null,
      "metadata": {
        "colab": {
          "base_uri": "https://localhost:8080/",
          "height": 297
        },
        "id": "KFstcjQN4v8L",
        "outputId": "a0707e2a-a169-4d61-f02d-18f96824d817"
      },
      "outputs": [],
      "source": [
        "import matplotlib.pyplot as plt\n",
        "plt.subplot(211)\n",
        "plt.plot(t, a, color='orange')\n",
        "plt.title('Time domain')\n",
        "plt.subplot(212)\n",
        "plt.plot(frequencies, 2/n * np.abs(spectrum))\n",
        "plt.title('Frequencies domain')\n",
        "plt.tight_layout()\n",
        "plt.show()"
      ]
    }
  ],
  "metadata": {
    "colab": {
      "authorship_tag": "ABX9TyMYBzw+hd2fLoAEnsnCIu76",
      "provenance": []
    },
    "kernelspec": {
      "display_name": "Python 3",
      "name": "python3"
    },
    "language_info": {
      "codemirror_mode": {
        "name": "ipython",
        "version": 3
      },
      "file_extension": ".py",
      "mimetype": "text/x-python",
      "name": "python",
      "nbconvert_exporter": "python",
      "pygments_lexer": "ipython3",
      "version": "3.11.5"
    }
  },
  "nbformat": 4,
  "nbformat_minor": 0
}
