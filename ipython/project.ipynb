{
 "cells": [
  {
   "cell_type": "code",
   "execution_count": 296,
   "metadata": {},
   "outputs": [
    {
     "name": "stdout",
     "output_type": "stream",
     "text": [
      "[60000. 40000. 30000. 20000.]\n"
     ]
    }
   ],
   "source": [
    "import numpy as np\n",
    "\n",
    "n_stories = 4\n",
    "n_cols = 4\n",
    "dist_h = 8   # m\n",
    "E = 2e11     # Pa (steel)\n",
    "I = 2e-5     # m^4 (HEB200, weak axis)\n",
    "A = 8e-3     # m^2\n",
    "W = 2e-4     # m^3\n",
    "# I = 4e-5     # m^4 (HEB240, weak axis)\n",
    "# A = 1e-2     # m^2\n",
    "# W = 3.3e-4   # m^3\n",
    "# I = 8.5e-5   # m^4 (HEB300, weak axis)\n",
    "# A = 1.5e-2   # m^2\n",
    "# W = 5.7e-4   # m^3\n",
    "h = 3        # m\n",
    "m = 100*np.ones(n_stories)                # kg\n",
    "k = n_cols*12*E*I/h**3*np.ones(n_stories) # kN/m\n",
    "damping = 0.05                            # dim-less\n",
    "z = np.arange(h, h*(n_stories+1), h)\n",
    "\n",
    "m[0] = 3e5\n",
    "m[1] = 2e5\n",
    "m[2] = 1.5e5\n",
    "m[3] = 1e5\n",
    "# k[0] = 4e7\n",
    "# k[1] = 3e7\n",
    "# k[2] = 2e7\n",
    "# k[3] = 1e7\n",
    "m /= 5\n",
    "print(m)\n",
    "\n",
    "M = np.zeros((n_stories, n_stories))\n",
    "K = np.zeros((n_stories, n_stories))\n",
    "M[0,0] = m[0]\n",
    "K[0,0] = k[0]\n",
    "for i in range(1,n_stories):\n",
    "  M[i,i] += m[i]\n",
    "  K[i,i] += k[i]\n",
    "  K[i-1,i-1] += k[i]\n",
    "  K[i,i-1] += -k[i]\n",
    "  K[i-1,i] += -k[i]"
   ]
  },
  {
   "cell_type": "code",
   "execution_count": 297,
   "metadata": {},
   "outputs": [],
   "source": [
    "from scipy.linalg import eigh\n",
    "eigvals, eigvecs = eigh(K, M)\n",
    "eigvecs_n = [v/np.sqrt(v@M@v) for v in eigvecs.T] # normalization\n",
    "eigvecs_n = np.array(eigvecs_n)      # casting into numpy array"
   ]
  },
  {
   "cell_type": "code",
   "execution_count": 298,
   "metadata": {},
   "outputs": [
    {
     "name": "stdout",
     "output_type": "stream",
     "text": [
      "frequency 1 : 5.3829384655830115 rad/s\n",
      "period 1    : 1.1672407825860354 s\n",
      "periods     : [1.16724078 0.46486081 0.30318694 0.22481843]\n"
     ]
    }
   ],
   "source": [
    "frequencies = eigvals**0.5\n",
    "periods = 2*np.pi/frequencies\n",
    "print(f'frequency 1 : {frequencies[0]} rad/s')\n",
    "print(f'period 1    : {periods[0]} s')\n",
    "print(f'periods     : {periods}')"
   ]
  },
  {
   "cell_type": "code",
   "execution_count": 299,
   "metadata": {},
   "outputs": [
    {
     "name": "stdout",
     "output_type": "stream",
     "text": [
      "Total mass      : 149999.99999999997\n",
      "Effective  mass : [134099.03933303975, 14624.542860771791, 1260.743816041585, 15.673990146827656]\n",
      "Participation   : [-366.19535678793056, 120.9319761716139, 35.50695447432214, -3.959039043357321]\n"
     ]
    }
   ],
   "source": [
    "d = np.ones(n_stories)\n",
    "modal_mass = [(v@M@v) / (v@v) for v in eigvecs_n] # eigvecs.T\n",
    "participation = [(v@M@d) / (v@M@v) for v in eigvecs_n] # eigvecs.T\n",
    "eff_mass = [(v@M@d)**2 / (v@M@v) for v in eigvecs_n] # eigvecs.T\n",
    "eff_mass_rel = eff_mass / np.trace(M)\n",
    "print(f'Total mass      : {sum(eff_mass)}')\n",
    "print(f'Effective  mass : {eff_mass}')\n",
    "print(f'Participation   : {participation}')"
   ]
  },
  {
   "cell_type": "code",
   "execution_count": 300,
   "metadata": {},
   "outputs": [],
   "source": [
    "g = 9.81            # m/s^2\n",
    "dt = 0.02           # the time step considered by the input data\n",
    "seism_scale = 0.01  # convert dm/s^2 to m/s^2\n",
    "seism = np.loadtxt('AcMx1985.txt') * seism_scale\n",
    "times = np.arange(len(seism))*dt"
   ]
  },
  {
   "cell_type": "code",
   "execution_count": 301,
   "metadata": {},
   "outputs": [
    {
     "name": "stdout",
     "output_type": "stream",
     "text": [
      "Sa :  [0.41762629446404037, 3.9469130239109247, 2.4447923389622352, 1.8646082755697022]\n"
     ]
    }
   ],
   "source": [
    "from scipy.integrate import solve_ivp\n",
    "\n",
    "# NOTE: this method is not optimized because of the interpolation.\n",
    "# Therefore, it is slower, although more accurate\n",
    "def SystemDerivatives(t, y, frequency, damping):\n",
    "    u = y[0]\n",
    "    v = y[1]\n",
    "    s = np.interp(t, times, seism)\n",
    "    a = s - 2*damping*frequency*v - frequency**2*u\n",
    "    return [v, a]\n",
    "\n",
    "def MaxResponseInt(period, damping):\n",
    "    frequency = 2*np.pi/period\n",
    "    solution = solve_ivp(fun=SystemDerivatives, t_span=[0, times[-1]],\n",
    "                         y0=[0,0], t_eval=times, args=[frequency, damping])\n",
    "    a = frequency**2*solution.y[0]\n",
    "    return max(np.absolute(a))\n",
    "\n",
    "Sa = [MaxResponseInt(T,damping) for T in periods]\n",
    "print('Sa : ', Sa)"
   ]
  },
  {
   "cell_type": "code",
   "execution_count": 302,
   "metadata": {},
   "outputs": [],
   "source": [
    "u_max = []\n",
    "v_max = []\n",
    "a_max = []\n",
    "\n",
    "for i in range(n_stories):\n",
    "    w = frequencies[i]\n",
    "    u_max.append(participation[i]*Sa[i]/w/w*eigvecs_n[i])\n",
    "    v_max.append(participation[i]*Sa[i]/w*eigvecs_n[i])\n",
    "    a_max.append(participation[i]*Sa[i]*eigvecs_n[i])"
   ]
  },
  {
   "attachments": {},
   "cell_type": "markdown",
   "metadata": {},
   "source": [
    "## Quadratic combination\n",
    "\n",
    "$u_{CQC} = \\sqrt{\\sum_i u_i^2}$"
   ]
  },
  {
   "cell_type": "code",
   "execution_count": 303,
   "metadata": {},
   "outputs": [
    {
     "name": "stdout",
     "output_type": "stream",
     "text": [
      "[0.00787546 0.01382549 0.0175221  0.01907676]\n"
     ]
    }
   ],
   "source": [
    "print(u_max[0])"
   ]
  },
  {
   "cell_type": "code",
   "execution_count": 304,
   "metadata": {},
   "outputs": [
    {
     "name": "stdout",
     "output_type": "stream",
     "text": [
      "Complete quadratic combination\n",
      "absolute displacements : [0.01131806 0.01433507 0.01809076 0.02121244]\n",
      "relative displacements : [0.01131806 0.00301701 0.00375569 0.00312168]\n",
      "0.006\n"
     ]
    }
   ],
   "source": [
    "u_cqc = 0\n",
    "for u_i in u_max:\n",
    "    u_cqc += np.power(u_i,2)\n",
    "u_cqc = np.sqrt(u_cqc)\n",
    "u_cqc_rel = np.array(u_cqc) # creating a copy of the array\n",
    "for i in range(1,n_stories):\n",
    "    u_cqc_rel[i] = u_cqc[i] - u_cqc[i-1]\n",
    "print(f'Complete quadratic combination')\n",
    "print(f'absolute displacements : {u_cqc}')\n",
    "print(f'relative displacements : {u_cqc_rel}')\n",
    "print(3/500)"
   ]
  },
  {
   "attachments": {},
   "cell_type": "markdown",
   "metadata": {},
   "source": [
    "## Base shear and overturning moment\n",
    "\n",
    "$V_b = mS_a(\\omega_1)$\n",
    "\n",
    "$M_b = V_b \\frac{\\sum_i m_i z_i^2}{\\sum_i m_i z_i}$"
   ]
  },
  {
   "cell_type": "code",
   "execution_count": 305,
   "metadata": {},
   "outputs": [
    {
     "name": "stdout",
     "output_type": "stream",
     "text": [
      "62643.94416960605\n",
      "491047.6913940087\n"
     ]
    }
   ],
   "source": [
    "mass = np.trace(M)\n",
    "Vb = mass*Sa[0]\n",
    "Mb = Vb * np.dot(m, np.power(z,2)) / np.dot(m,z)\n",
    "print(Vb)\n",
    "print(Mb)"
   ]
  },
  {
   "attachments": {},
   "cell_type": "markdown",
   "metadata": {},
   "source": [
    "## Structure verification\n",
    "\n",
    "In this example, we assume all the forces are equally distributed on all the columns. Each column must verify the following actions:\n",
    "\n",
    "Shear: $V_{ED} = \\frac{V_b}{n_{columns}}$\n",
    "\n",
    "Bending moment: $M_{ED} = \\frac{V_{ED}h}{2}$\n",
    "\n",
    "Axial force: $N_{ED} = \\frac{mg}{n_{columns}} + \\frac{2M_b}{n_{columns}h_{dist}}$"
   ]
  },
  {
   "cell_type": "code",
   "execution_count": 306,
   "metadata": {},
   "outputs": [
    {
     "name": "stdout",
     "output_type": "stream",
     "text": [
      "Ved = 15660.986042401513 N\n",
      "Med = 23491.47906360227 Nm\n",
      "Ned = 405690.48071212554 N\n"
     ]
    }
   ],
   "source": [
    "Ved = Vb / n_cols\n",
    "Med = Ved * h / 2\n",
    "Ned = mass*10 / n_cols + 2*Mb/n_cols/dist_h\n",
    "print(f'{Ved = } N')\n",
    "print(f'{Med = } Nm')\n",
    "print(f'{Ned = } N')"
   ]
  },
  {
   "attachments": {},
   "cell_type": "markdown",
   "metadata": {},
   "source": [
    "Resisting properties of a steel section\n",
    "\n",
    "$V_{RD} = f_yA/\\sqrt{3}$\n",
    "\n",
    "$M_{RD} = f_yW$\n",
    "\n",
    "$N_{RD} = f_yA$"
   ]
  },
  {
   "cell_type": "code",
   "execution_count": 307,
   "metadata": {},
   "outputs": [
    {
     "name": "stdout",
     "output_type": "stream",
     "text": [
      "1662768.7752661223\n",
      "72000.0\n",
      "2880000.0\n"
     ]
    }
   ],
   "source": [
    "fy = 3.6e8 # Pa\n",
    "Vrd = fy*A/np.sqrt(3)\n",
    "Mrd = fy*W\n",
    "Nrd = fy*A\n",
    "print(Vrd)\n",
    "print(Mrd)\n",
    "print(Nrd)"
   ]
  },
  {
   "attachments": {},
   "cell_type": "markdown",
   "metadata": {},
   "source": [
    "Verification"
   ]
  },
  {
   "cell_type": "code",
   "execution_count": 308,
   "metadata": {},
   "outputs": [
    {
     "name": "stdout",
     "output_type": "stream",
     "text": [
      "Ratio V : 0.009418619278495298\n",
      "Ratio M : 0.3262705425500315\n",
      "Ratio N : 0.1408647502472658\n"
     ]
    }
   ],
   "source": [
    "print(f'Ratio V : {Ved/Vrd}')\n",
    "print(f'Ratio M : {Med/Mrd}')\n",
    "print(f'Ratio N : {Ned/Nrd}')"
   ]
  }
 ],
 "metadata": {
  "kernelspec": {
   "display_name": "Python 3",
   "language": "python",
   "name": "python3"
  },
  "language_info": {
   "codemirror_mode": {
    "name": "ipython",
    "version": 3
   },
   "file_extension": ".py",
   "mimetype": "text/x-python",
   "name": "python",
   "nbconvert_exporter": "python",
   "pygments_lexer": "ipython3",
   "version": "3.8.10"
  },
  "orig_nbformat": 4,
  "vscode": {
   "interpreter": {
    "hash": "916dbcbb3f70747c44a77c7bcd40155683ae19c65e1c03b4aa3499c5328201f1"
   }
  }
 },
 "nbformat": 4,
 "nbformat_minor": 2
}
