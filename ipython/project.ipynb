{
 "cells": [
  {
   "cell_type": "code",
   "execution_count": 34,
   "metadata": {},
   "outputs": [],
   "source": [
    "# Materials\n",
    "YoungModulus = {  # Pa, Pascals\n",
    "    'steel' : 2.1e11,\n",
    "    'nylon.min' : 1.59e9,\n",
    "    'nylon.max' : 3.79e9,\n",
    "    'nylon.avg' : 2.69e9\n",
    "}\n",
    "\n",
    "# Available sections\n",
    "EffectiveBarRadius = {  # m, meters\n",
    "    'M4' : 1.5e-3,\n",
    "    'M5' : 2.0e-3,\n",
    "    'M6' : 2.5e-3,\n",
    "    'M8' : 3.5e-3\n",
    "}"
   ]
  },
  {
   "cell_type": "code",
   "execution_count": 35,
   "metadata": {},
   "outputs": [
    {
     "name": "stdout",
     "output_type": "stream",
     "text": [
      "Total mass   : 1.1 kg\n",
      "Total height : 0.90 m\n"
     ]
    }
   ],
   "source": [
    "import numpy as np\n",
    "\n",
    "# Geometric definition\n",
    "n_storeys = 3\n",
    "n_cols = 4\n",
    "storey_h = 0.30            # m\n",
    "storey_m = 0.14 + 0.230    # kg   Storey masses : 0.2  0.14 | Additional masses : 0.23  0.48\n",
    "r = EffectiveBarRadius['M6']\n",
    "E = YoungModulus['nylon.avg']\n",
    "I = np.pi*r**4/4\n",
    "\n",
    "# Storey mass, inter-storey stiffness and structure damping\n",
    "m = storey_m * np.ones(n_storeys)\n",
    "k = n_cols*12*E*I/storey_h**3 * np.ones(n_storeys)\n",
    "damping = 0.05\n",
    "\n",
    "print(f'Total mass   : {storey_m * n_storeys:.1f} kg')\n",
    "print(f'Total height : {storey_h * n_storeys:.2f} m')\n",
    "\n",
    "# Mass and stiffness matrices\n",
    "M = np.zeros((n_storeys, n_storeys))\n",
    "K = np.zeros((n_storeys, n_storeys))\n",
    "M[0,0] = m[0]\n",
    "K[0,0] = k[0]\n",
    "for i in range(1,n_storeys):\n",
    "  M[i,i] += m[i]\n",
    "  K[i,i] += k[i]\n",
    "  K[i-1,i-1] += k[i]\n",
    "  K[i,i-1] += -k[i]\n",
    "  K[i-1,i] += -k[i]"
   ]
  },
  {
   "cell_type": "code",
   "execution_count": 36,
   "metadata": {},
   "outputs": [],
   "source": [
    "from scipy.linalg import eigh\n",
    "eigvals, eigvecs = eigh(K, M)\n",
    "eigvecs_n = [v/np.sqrt(v@M@v) for v in eigvecs.T] # normalization\n",
    "eigvecs_n = np.array(eigvecs_n)      # casting into numpy array"
   ]
  },
  {
   "cell_type": "code",
   "execution_count": 37,
   "metadata": {},
   "outputs": [
    {
     "name": "stdout",
     "output_type": "stream",
     "text": [
      "frequency 1  : 8.86 rad/s\n",
      "period 1     : 0.71 s\n",
      "periods      : [0.71, 0.25, 0.18] s\n",
      "Natural freq : [1.41, 3.95, 5.71] Hz\n",
      "Pendulum length : 12.49 cm\n"
     ]
    }
   ],
   "source": [
    "frequencies = eigvals**0.5\n",
    "periods = 2*np.pi/frequencies\n",
    "print(f'frequency 1  : {frequencies[0]:.2f} rad/s')\n",
    "print(f'period 1     : {periods[0]:.2f} s')\n",
    "print('periods      : [' + ', '.join(['{:.2f}']*len(periods)).format(*periods) + '] s')\n",
    "print('Natural freq : [' + ', '.join(['{:.2f}']*len(periods)).format(*1/periods) + '] Hz')\n",
    "print(f'Pendulum length : {9.81/frequencies[0]**2*100:.2f} cm')"
   ]
  },
  {
   "cell_type": "code",
   "execution_count": 38,
   "metadata": {},
   "outputs": [
    {
     "name": "stdout",
     "output_type": "stream",
     "text": [
      "Total mass      : 1.11\n",
      "Effective  mass : [1.0146282374990017, 0.08311344507421854, 0.012258317426779774]\n",
      "Participation   : [1.0072875644516819, -0.28829402538765614, -0.11071728603420414]\n"
     ]
    }
   ],
   "source": [
    "d = np.ones(n_storeys)\n",
    "modal_mass = [(v@M@v) / (v@v) for v in eigvecs_n] # eigvecs.T\n",
    "participation = [(v@M@d) / (v@M@v) for v in eigvecs_n] # eigvecs.T\n",
    "eff_mass = [(v@M@d)**2 / (v@M@v) for v in eigvecs_n] # eigvecs.T\n",
    "eff_mass_rel = eff_mass / np.trace(M)\n",
    "print(f'Total mass      : {sum(eff_mass)}')\n",
    "print(f'Effective  mass : {eff_mass}')\n",
    "print(f'Participation   : {participation}')"
   ]
  },
  {
   "cell_type": "code",
   "execution_count": 39,
   "metadata": {},
   "outputs": [],
   "source": [
    "g = 9.81            # m/s^2\n",
    "dt = 0.02           # the time step considered by the input data\n",
    "seism_scale = 0.01  # convert dm/s^2 to m/s^2\n",
    "seism = np.loadtxt('AcMx1985.txt') * seism_scale\n",
    "times = np.arange(len(seism))*dt"
   ]
  },
  {
   "cell_type": "code",
   "execution_count": 40,
   "metadata": {},
   "outputs": [
    {
     "name": "stdout",
     "output_type": "stream",
     "text": [
      "Sa :  [0.9621603503448422, 1.7648246087676702, 1.7384311577412184]\n"
     ]
    }
   ],
   "source": [
    "from scipy.integrate import solve_ivp\n",
    "\n",
    "# NOTE: this method is not optimized because of the interpolation.\n",
    "# Therefore, it is slower, although more accurate\n",
    "def SystemDerivatives(t, y, frequency, damping):\n",
    "    u = y[0]\n",
    "    v = y[1]\n",
    "    s = np.interp(t, times, seism)\n",
    "    a = s - 2*damping*frequency*v - frequency**2*u\n",
    "    return [v, a]\n",
    "\n",
    "def MaxResponseInt(period, damping):\n",
    "    frequency = 2*np.pi/period\n",
    "    solution = solve_ivp(fun=SystemDerivatives, t_span=[0, times[-1]],\n",
    "                         y0=[0,0], t_eval=times, args=[frequency, damping])\n",
    "    a = frequency**2*solution.y[0]\n",
    "    return max(np.absolute(a))\n",
    "\n",
    "Sa = [MaxResponseInt(T,damping) for T in periods]\n",
    "print('Sa : ', Sa)"
   ]
  },
  {
   "cell_type": "code",
   "execution_count": 41,
   "metadata": {},
   "outputs": [],
   "source": [
    "u_max = []\n",
    "v_max = []\n",
    "a_max = []\n",
    "\n",
    "for i in range(n_storeys):\n",
    "    w = frequencies[i]\n",
    "    u_max.append(participation[i]*Sa[i]/w/w*eigvecs_n[i])\n",
    "    v_max.append(participation[i]*Sa[i]/w*eigvecs_n[i])\n",
    "    a_max.append(participation[i]*Sa[i]*eigvecs_n[i])"
   ]
  },
  {
   "attachments": {},
   "cell_type": "markdown",
   "metadata": {},
   "source": [
    "## Quadratic combination\n",
    "\n",
    "$u_{CQC} = \\sqrt{\\sum_i u_i^2}$"
   ]
  },
  {
   "cell_type": "code",
   "execution_count": 42,
   "metadata": {},
   "outputs": [
    {
     "name": "stdout",
     "output_type": "stream",
     "text": [
      "[0.00665388 0.01198987 0.01495112]\n"
     ]
    }
   ],
   "source": [
    "print(u_max[0])"
   ]
  },
  {
   "cell_type": "code",
   "execution_count": 43,
   "metadata": {},
   "outputs": [
    {
     "name": "stdout",
     "output_type": "stream",
     "text": [
      "Complete quadratic combination\n",
      "absolute displacements : [0.00673013 0.01199949 0.01497282]\n",
      "relative displacements : [0.00673013 0.00526936 0.00297333]\n",
      "0.006\n"
     ]
    }
   ],
   "source": [
    "u_cqc = 0\n",
    "for u_i in u_max:\n",
    "    u_cqc += np.power(u_i,2)\n",
    "u_cqc = np.sqrt(u_cqc)\n",
    "u_cqc_rel = np.array(u_cqc) # creating a copy of the array\n",
    "for i in range(1,n_storeys):\n",
    "    u_cqc_rel[i] = u_cqc[i] - u_cqc[i-1]\n",
    "print(f'Complete quadratic combination')\n",
    "print(f'absolute displacements : {u_cqc}')\n",
    "print(f'relative displacements : {u_cqc_rel}')\n",
    "print(3/500)"
   ]
  },
  {
   "attachments": {},
   "cell_type": "markdown",
   "metadata": {},
   "source": [
    "## Base shear and overturning moment\n",
    "\n",
    "$V_b = mS_a(\\omega_1)$\n",
    "\n",
    "$M_b = V_b \\frac{\\sum_i m_i z_i^2}{\\sum_i m_i z_i}$"
   ]
  },
  {
   "cell_type": "code",
   "execution_count": 44,
   "metadata": {},
   "outputs": [
    {
     "ename": "NameError",
     "evalue": "name 'col_diam' is not defined",
     "output_type": "error",
     "traceback": [
      "\u001b[1;31m---------------------------------------------------------------------------\u001b[0m",
      "\u001b[1;31mNameError\u001b[0m                                 Traceback (most recent call last)",
      "\u001b[1;32mc:\\Users\\mmaso\\dynamics\\ipython\\project.ipynb Cell 13\u001b[0m line \u001b[0;36m3\n\u001b[0;32m      <a href='vscode-notebook-cell:/c%3A/Users/mmaso/dynamics/ipython/project.ipynb#X15sZmlsZQ%3D%3D?line=0'>1</a>\u001b[0m \u001b[39m#Don't need. TO BE REMOVED\u001b[39;00m\n\u001b[0;32m      <a href='vscode-notebook-cell:/c%3A/Users/mmaso/dynamics/ipython/project.ipynb#X15sZmlsZQ%3D%3D?line=1'>2</a>\u001b[0m dist_h \u001b[39m=\u001b[39m \u001b[39m8\u001b[39m   \u001b[39m# m\u001b[39;00m\n\u001b[1;32m----> <a href='vscode-notebook-cell:/c%3A/Users/mmaso/dynamics/ipython/project.ipynb#X15sZmlsZQ%3D%3D?line=2'>3</a>\u001b[0m A \u001b[39m=\u001b[39m np\u001b[39m.\u001b[39mpi \u001b[39m*\u001b[39m col_diam\u001b[39m*\u001b[39m\u001b[39m*\u001b[39m\u001b[39m2\u001b[39m \u001b[39m/\u001b[39m \u001b[39m4\u001b[39m   \u001b[39m# m^2\u001b[39;00m\n\u001b[0;32m      <a href='vscode-notebook-cell:/c%3A/Users/mmaso/dynamics/ipython/project.ipynb#X15sZmlsZQ%3D%3D?line=3'>4</a>\u001b[0m W \u001b[39m=\u001b[39m \u001b[39m2e-4\u001b[39m     \u001b[39m# m^3\u001b[39;00m\n",
      "\u001b[1;31mNameError\u001b[0m: name 'col_diam' is not defined"
     ]
    }
   ],
   "source": [
    "#Don't need. TO BE REMOVED\n",
    "dist_h = 8   # m\n",
    "A = np.pi * col_diam**2 / 4   # m^2\n",
    "W = 2e-4     # m^3"
   ]
  },
  {
   "cell_type": "code",
   "execution_count": null,
   "metadata": {},
   "outputs": [
    {
     "name": "stdout",
     "output_type": "stream",
     "text": [
      "(3,)\n",
      "(2,)\n"
     ]
    },
    {
     "ename": "ValueError",
     "evalue": "shapes (3,) and (2,) not aligned: 3 (dim 0) != 2 (dim 0)",
     "output_type": "error",
     "traceback": [
      "\u001b[1;31m---------------------------------------------------------------------------\u001b[0m",
      "\u001b[1;31mValueError\u001b[0m                                Traceback (most recent call last)",
      "\u001b[1;32mc:\\Users\\mmaso\\dynamics\\ipython\\project.ipynb Cell 14\u001b[0m line \u001b[0;36m6\n\u001b[0;32m      <a href='vscode-notebook-cell:/c%3A/Users/mmaso/dynamics/ipython/project.ipynb#X14sZmlsZQ%3D%3D?line=3'>4</a>\u001b[0m \u001b[39mprint\u001b[39m(m\u001b[39m.\u001b[39mshape)\n\u001b[0;32m      <a href='vscode-notebook-cell:/c%3A/Users/mmaso/dynamics/ipython/project.ipynb#X14sZmlsZQ%3D%3D?line=4'>5</a>\u001b[0m \u001b[39mprint\u001b[39m(z\u001b[39m.\u001b[39mshape)\n\u001b[1;32m----> <a href='vscode-notebook-cell:/c%3A/Users/mmaso/dynamics/ipython/project.ipynb#X14sZmlsZQ%3D%3D?line=5'>6</a>\u001b[0m Mb \u001b[39m=\u001b[39m Vb \u001b[39m*\u001b[39m np\u001b[39m.\u001b[39;49mdot(m, np\u001b[39m.\u001b[39;49mpower(z,\u001b[39m2\u001b[39;49m)) \u001b[39m/\u001b[39m np\u001b[39m.\u001b[39mdot(m,z)\n\u001b[0;32m      <a href='vscode-notebook-cell:/c%3A/Users/mmaso/dynamics/ipython/project.ipynb#X14sZmlsZQ%3D%3D?line=6'>7</a>\u001b[0m \u001b[39mprint\u001b[39m(Vb)\n\u001b[0;32m      <a href='vscode-notebook-cell:/c%3A/Users/mmaso/dynamics/ipython/project.ipynb#X14sZmlsZQ%3D%3D?line=7'>8</a>\u001b[0m \u001b[39mprint\u001b[39m(Mb)\n",
      "\u001b[1;31mValueError\u001b[0m: shapes (3,) and (2,) not aligned: 3 (dim 0) != 2 (dim 0)"
     ]
    }
   ],
   "source": [
    "z = np.arange(storey_h, storey_h*n_storeys, storey_h)\n",
    "mass = np.trace(M)\n",
    "Vb = mass*Sa[0]\n",
    "print(m.shape)\n",
    "print(z.shape)\n",
    "Mb = Vb * np.dot(m, np.power(z,2)) / np.dot(m,z)\n",
    "print(Vb)\n",
    "print(Mb)"
   ]
  },
  {
   "attachments": {},
   "cell_type": "markdown",
   "metadata": {},
   "source": [
    "## Structure verification\n",
    "\n",
    "In this example, we assume all the forces are equally distributed on all the columns. Each column must verify the following actions:\n",
    "\n",
    "Shear: $V_{ED} = \\frac{V_b}{n_{columns}}$\n",
    "\n",
    "Bending moment: $M_{ED} = \\frac{V_{ED}h}{2}$\n",
    "\n",
    "Axial force: $N_{ED} = \\frac{mg}{n_{columns}} + \\frac{2M_b}{n_{columns}h_{dist}}$"
   ]
  },
  {
   "cell_type": "code",
   "execution_count": null,
   "metadata": {},
   "outputs": [
    {
     "name": "stdout",
     "output_type": "stream",
     "text": [
      "Ved = 0.25050561883042427 N\n",
      "Med = 0.02755561807134667 Nm\n",
      "Ned = 5.102148221083237 N\n"
     ]
    }
   ],
   "source": [
    "Ved = Vb / n_cols\n",
    "Med = Ved * storey_h / 2\n",
    "Ned = mass*10 / n_cols + 2*Mb/n_cols/dist_h\n",
    "print(f'{Ved = } N')\n",
    "print(f'{Med = } Nm')\n",
    "print(f'{Ned = } N')"
   ]
  },
  {
   "attachments": {},
   "cell_type": "markdown",
   "metadata": {},
   "source": [
    "Resisting properties of a steel section\n",
    "\n",
    "$V_{RD} = f_yA/\\sqrt{3}$\n",
    "\n",
    "$M_{RD} = f_yW$\n",
    "\n",
    "$N_{RD} = f_yA$"
   ]
  },
  {
   "cell_type": "code",
   "execution_count": null,
   "metadata": {},
   "outputs": [
    {
     "name": "stdout",
     "output_type": "stream",
     "text": [
      "1469.1774850297163\n",
      "72000.0\n",
      "2544.690049407732\n"
     ]
    }
   ],
   "source": [
    "fy = 3.6e8 # Pa\n",
    "Vrd = fy*A/np.sqrt(3)\n",
    "Mrd = fy*W\n",
    "Nrd = fy*A\n",
    "print(Vrd)\n",
    "print(Mrd)\n",
    "print(Nrd)"
   ]
  },
  {
   "attachments": {},
   "cell_type": "markdown",
   "metadata": {},
   "source": [
    "Verification"
   ]
  },
  {
   "cell_type": "code",
   "execution_count": null,
   "metadata": {},
   "outputs": [
    {
     "name": "stdout",
     "output_type": "stream",
     "text": [
      "Ratio V : 0.00017050739027991394\n",
      "Ratio M : 3.827169176575926e-07\n",
      "Ratio N : 0.0020050175549948582\n"
     ]
    }
   ],
   "source": [
    "print(f'Ratio V : {Ved/Vrd}')\n",
    "print(f'Ratio M : {Med/Mrd}')\n",
    "print(f'Ratio N : {Ned/Nrd}')"
   ]
  }
 ],
 "metadata": {
  "kernelspec": {
   "display_name": "Python 3",
   "language": "python",
   "name": "python3"
  },
  "language_info": {
   "codemirror_mode": {
    "name": "ipython",
    "version": 3
   },
   "file_extension": ".py",
   "mimetype": "text/x-python",
   "name": "python",
   "nbconvert_exporter": "python",
   "pygments_lexer": "ipython3",
   "version": "3.11.5"
  },
  "orig_nbformat": 4,
  "vscode": {
   "interpreter": {
    "hash": "916dbcbb3f70747c44a77c7bcd40155683ae19c65e1c03b4aa3499c5328201f1"
   }
  }
 },
 "nbformat": 4,
 "nbformat_minor": 2
}
