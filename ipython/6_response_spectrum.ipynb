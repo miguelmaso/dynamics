{
  "cells": [
    {
      "attachments": {},
      "cell_type": "markdown",
      "metadata": {
        "id": "aJq3M18u1nef"
      },
      "source": [
        "# Response spectra\n",
        "\n",
        "The response spectra of a given earthquake describe the peak response of all possible SDOF systems.\n",
        "The peaks of the displacement for different $\\omega$ and $\\xi$ values is known as the displacement spectrum:\n",
        "$$\n",
        "S_u(\\omega,\\xi) = \\max_t\\{u(t)\\}\n",
        "$$\n",
        "\n",
        "Similarly, the pseudo velocity and pseudo acceleration spectra are:\n",
        "\\begin{align}\n",
        "S_v(\\omega,\\xi) &= \\omega S_u(\\omega,\\xi) \\approx \\max_t\\{\\dot{u}(t)\\} \\\\\n",
        "S_a(\\omega,\\xi) &= \\omega^2 S_u(\\omega,\\xi) \\approx \\max_t\\{\\ddot{u}(t) + a_g\\}\n",
        "\\end{align}\n",
        "\n",
        "Given a value of $\\omega$ and $\\xi$, the corresponding response value can be obtained integrating the equation of motion and finding the max. This procedure can ber repeated as many times needed to generate the response spectra."
      ]
    },
    {
      "attachments": {},
      "cell_type": "markdown",
      "metadata": {},
      "source": [
        "Loading useful python libraries"
      ]
    },
    {
      "cell_type": "code",
      "execution_count": null,
      "metadata": {
        "id": "MOptUstGxCBr"
      },
      "outputs": [],
      "source": [
        "import numpy as np\n",
        "import matplotlib.pyplot as plt"
      ]
    },
    {
      "attachments": {},
      "cell_type": "markdown",
      "metadata": {},
      "source": [
        "Reading the seismic data."
      ]
    },
    {
      "cell_type": "code",
      "execution_count": null,
      "metadata": {
        "colab": {
          "base_uri": "https://localhost:8080/",
          "height": 265
        },
        "id": "AS3Sn-NrreNd",
        "outputId": "9b0115e4-19fe-4816-e772-2206975ccfc1"
      },
      "outputs": [],
      "source": [
        "g = 9.81            # m/s^2\n",
        "dt = 0.02           # the time step considered by the input data\n",
        "seism_scale = 0.01  # convert dm/s^2 to m/s^2\n",
        "seism = np.loadtxt('AcMx1985.txt') * seism_scale\n",
        "times = np.arange(len(seism))*dt\n",
        "\n",
        "plt.plot(times, seism)\n",
        "plt.show()"
      ]
    },
    {
      "attachments": {},
      "cell_type": "markdown",
      "metadata": {},
      "source": [
        "Definition of the values of the possible structures. As the number of sampling periods increase, the definition of the spectra will be more accurate, but the computations will be slower."
      ]
    },
    {
      "cell_type": "code",
      "execution_count": null,
      "metadata": {
        "id": "LLDAGjJU0nx4"
      },
      "outputs": [],
      "source": [
        "damping = 0.05\n",
        "periods = np.linspace(start=0.01,stop=2,num=50)"
      ]
    },
    {
      "attachments": {},
      "cell_type": "markdown",
      "metadata": {},
      "source": [
        "## Duhamel method\n",
        "\n",
        "In this section, the equation of motion is solved using the Duhamel convolution. For each period of the structures, the Duhamel integral is performed."
      ]
    },
    {
      "cell_type": "code",
      "execution_count": null,
      "metadata": {
        "id": "gXASsemNyRas"
      },
      "outputs": [],
      "source": [
        "def FreeVibration(t, frequency, damping):\n",
        "    return 1/frequency * np.exp(-damping*frequency*t) * np.sin(frequency*t)\n",
        "\n",
        "def MaxResponseDuhamel(period, damping):\n",
        "    frequency = 2*np.pi/period\n",
        "    free_response = FreeVibration(times, frequency, damping)\n",
        "    u_duhamel = np.convolve(seism, free_response, 'full') * dt\n",
        "    u_duhamel = u_duhamel[:len(u_duhamel)//2+1]\n",
        "    a_duhamel = frequency**2*u_duhamel\n",
        "    return max(np.absolute(a_duhamel))\n",
        "\n",
        "Sa_duhamel = [MaxResponseDuhamel(T,damping) for T in periods]"
      ]
    },
    {
      "attachments": {},
      "cell_type": "markdown",
      "metadata": {},
      "source": [
        "## Direct integration\n",
        "\n",
        "In this section, the differential equation is integrated using a numerical scheme.\n",
        "\n",
        "We are using a standard python library. The main drawback of the library is that needs to interpolate the seismic data. Therefore, this method is slower, although more accurate. A custom implementation will be faster while keeping the same level of accuracy."
      ]
    },
    {
      "cell_type": "code",
      "execution_count": null,
      "metadata": {
        "id": "oPZlk1rEEX76"
      },
      "outputs": [],
      "source": [
        "from scipy.integrate import solve_ivp\n",
        "\n",
        "def SystemDerivatives(t, y, frequency, damping):\n",
        "    u = y[0]\n",
        "    v = y[1]\n",
        "    s = np.interp(t, times, seism)\n",
        "    a = s - 2*damping*frequency*v - frequency**2*u\n",
        "    return [v, a]\n",
        "\n",
        "def MaxResponseInt(period, damping):\n",
        "    frequency = 2*np.pi/period\n",
        "    solution = solve_ivp(fun=SystemDerivatives, t_span=[0, times[-1]],\n",
        "                         y0=[0,0], t_eval=times, args=[frequency, damping])\n",
        "    a = frequency**2*solution.y[0]\n",
        "    return max(np.absolute(a))\n",
        "\n",
        "Sa_integration = [MaxResponseInt(T,damping) for T in periods]"
      ]
    },
    {
      "attachments": {},
      "cell_type": "markdown",
      "metadata": {},
      "source": [
        "## Comparison of the results\n",
        "\n",
        "In general, both methods are in good agreement. However, for small periods, there is a difference from the Duhamel and the direct integration methods. Therefore, it's recommended to use the spectra obtained from the direct integration."
      ]
    },
    {
      "cell_type": "code",
      "execution_count": null,
      "metadata": {
        "colab": {
          "base_uri": "https://localhost:8080/",
          "height": 295
        },
        "id": "hbaYtgI1ET4k",
        "outputId": "a494bc7a-7a20-4ab3-bad0-953a1b78b102"
      },
      "outputs": [],
      "source": [
        "plt.plot(periods,Sa_duhamel,label='Duhamel')\n",
        "plt.plot(periods,Sa_integration,label='integration')\n",
        "plt.title(f'Accelerogram spectrum, damping {damping:.0%}')\n",
        "plt.ylabel('Sa/g')\n",
        "plt.xlabel('T [s]')\n",
        "plt.legend()\n",
        "plt.show()"
      ]
    },
    {
      "cell_type": "code",
      "execution_count": null,
      "metadata": {
        "id": "MEjeE3Hzy7Ti"
      },
      "outputs": [],
      "source": [
        "Sa = Sa_integration"
      ]
    }
  ],
  "metadata": {
    "colab": {
      "authorship_tag": "ABX9TyMrV/c57Iwkb2BG/ZybMhdy",
      "provenance": []
    },
    "kernelspec": {
      "display_name": "Python 3",
      "language": "python",
      "name": "python3"
    },
    "language_info": {
      "codemirror_mode": {
        "name": "ipython",
        "version": 3
      },
      "file_extension": ".py",
      "mimetype": "text/x-python",
      "name": "python",
      "nbconvert_exporter": "python",
      "pygments_lexer": "ipython3",
      "version": "3.8.10"
    },
    "vscode": {
      "interpreter": {
        "hash": "916dbcbb3f70747c44a77c7bcd40155683ae19c65e1c03b4aa3499c5328201f1"
      }
    }
  },
  "nbformat": 4,
  "nbformat_minor": 0
}
