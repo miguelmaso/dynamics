{
  "cells": [
    {
      "cell_type": "markdown",
      "metadata": {
        "id": "5aNuEfo409hF"
      },
      "source": [
        "# Fundamenal modes of vibration of a simple building\n",
        "\n",
        "Find the fundamental modes of vibration of a three storey building with four columns of stiffness $EI$ and height $h$, where each storey has mass $m$.\n",
        "\n",
        "The equilibrium equation in terms of the stiffness and mass matrix is:\n",
        "$$\n",
        "\\mathbf{M}\\ddot{\\mathbf{u}} + \\mathbf{K}\\mathbf{u} = \\mathbf{0} \\ , \\quad\n",
        "\\mathbf{M} = \\left[\\begin{matrix}\n",
        "m_1 & 0 & 0 \\\\\n",
        "0 & m_2 & 0 \\\\\n",
        "0 & 0 & m_3\n",
        "\\end{matrix}\\right] \\ , \\quad\n",
        "\\mathbf{K} = \\left[\\begin{matrix}\n",
        "k_1 + k_2 & -k_2 & 0 \\\\\n",
        "-k_2 & k_2 + k_3 & -k_3 \\\\\n",
        "0 & -k_3 & k_2 + k_3\n",
        "\\end{matrix}\\right]\n",
        "$$\n",
        "\n",
        "Which trying test solutions as $\\mathbf{u} = \\mathbf{v}\\sin(\\omega t + \\varphi)$ leads to a generalized eigenvalue problem of the type:\n",
        "\n",
        "$$\n",
        "\\det[\\mathbf{K} - \\omega^2 \\mathbf{M}] = 0\n",
        "$$"
      ]
    },
    {
      "cell_type": "markdown",
      "metadata": {
        "id": "cCex2jlr1ww3"
      },
      "source": [
        "| Geometry of the building |  |\n",
        "|--------------------------|--|\n",
        "| Number of stories | 3 to 5 |\n",
        "| Columns | HEB200 ($\\times 4$) |\n",
        "| Young modulus | $200GPa$ |\n",
        "| Storey height | $3m$ |\n",
        "| Storey mass | $100Tn$ |"
      ]
    },
    {
      "cell_type": "markdown",
      "metadata": {
        "id": "jr_bQZMaDOC3"
      },
      "source": [
        "## Assembly of the matrices\n",
        "\n",
        "First of all, the mass and stiffness matrices are built according to the given data."
      ]
    },
    {
      "cell_type": "code",
      "execution_count": null,
      "metadata": {
        "id": "6xxVLshC0dc5"
      },
      "outputs": [],
      "source": [
        "import numpy as np\n",
        "\n",
        "n_stories = 5\n",
        "m = 100*np.ones(n_stories)            # Tn\n",
        "E = 2e8                               # KPa (steel)\n",
        "I = 2e-5                              # m^4 (HEB200, weak axis)\n",
        "h = 3                                 # m\n",
        "k = 4*12*E*I/h**3*np.ones(n_stories)  # KN/m\n",
        "\n",
        "M = np.zeros((n_stories, n_stories))\n",
        "K = np.zeros((n_stories, n_stories))\n",
        "M[0,0] = m[0]\n",
        "K[0,0] = k[0]\n",
        "for i in range(1,n_stories):\n",
        "  M[i,i] += m[i]\n",
        "  K[i,i] += k[i]\n",
        "  K[i-1,i-1] += k[i]\n",
        "  K[i,i-1] += -k[i]\n",
        "  K[i-1,i] += -k[i]"
      ]
    },
    {
      "cell_type": "markdown",
      "metadata": {
        "id": "74tGxphJGd_s"
      },
      "source": [
        "## Solution of the eigenvalue problem\n",
        "\n",
        "We eill use the already implemented function in `scipy` library. More options can be used when calling the library, such as computing only the desired evgenvalues passing the optional argument `eigvals=(0,n)`."
      ]
    },
    {
      "cell_type": "code",
      "execution_count": null,
      "metadata": {
        "id": "hro54FtbGjsT"
      },
      "outputs": [],
      "source": [
        "from scipy.linalg import eigh\n",
        "eigvals, eigvecs = eigh(K, M)"
      ]
    },
    {
      "cell_type": "markdown",
      "metadata": {
        "id": "XVDDqU4K51M0"
      },
      "source": [
        "Normalization of the eigenvectors and computation of the frequencies. Note that the matrix of eigenvectors needs to be transposed."
      ]
    },
    {
      "cell_type": "code",
      "execution_count": null,
      "metadata": {
        "id": "3Ber9zZXIUrm"
      },
      "outputs": [],
      "source": [
        "eigvecs_n = [v/np.sqrt(v@M@v) for v in eigvecs.T] # normalization\n",
        "eigvecs_n = np.array(eigvecs_n)                   # cast into numpy array\n",
        "frequencies = eigvals**0.5\n",
        "periods = 2*np.pi/frequencies"
      ]
    },
    {
      "cell_type": "markdown",
      "metadata": {
        "id": "ZQeqMcvegvX4"
      },
      "source": [
        "### Modal analysis\n",
        "\n",
        "For each mode of deformation, the *modal mass* is defined as\n",
        "$$\n",
        "m_i = \\frac{\\mathbf{v}_i^T \\mathbf{M} \\mathbf{v}_i}{\\mathbf{v}_i^T\\mathbf{v}_i}\n",
        "$$\n",
        "\n",
        "Another important concept is the *partcipative* or *effective mass*. It is defined considering the structure under a general earthquake defined by a direction $\\mathbf{d}$. The unid vector $\\mathbf{d}$ is applied as unit displacement for all the nodes. Thus, this yields the definition of the *effective mass*\n",
        "$$\n",
        "M_i = \\frac{(\\mathbf{v}_i^T \\mathbf{M} \\mathbf{d})^2}{\\mathbf{v}_i^T \\mathbf{M} \\mathbf{v}_i}\n",
        "$$\n",
        "\n",
        "It verifies that the sum of the modal or the effective masses are equal to the total mass of the building:\n",
        "$$\n",
        "\\sum_i m_i = \\sum_i M_i = M = \\text{trace}(\\mathbf{M})\n",
        "$$\n"
      ]
    },
    {
      "cell_type": "code",
      "execution_count": null,
      "metadata": {
        "colab": {
          "base_uri": "https://localhost:8080/"
        },
        "id": "IylPOG04go0W",
        "outputId": "c0ba207f-b8fc-417a-cfe0-554a2348f68e"
      },
      "outputs": [],
      "source": [
        "d = np.ones(n_stories)\n",
        "modal_mass = [(v@M@v) / (v@v) for v in eigvecs_n] # eigvecs.T\n",
        "participation = [(v@M@d) / (v@M@v) for v in eigvecs_n] # eigvecs.T\n",
        "eff_mass = [(v@M@d)**2 / (v@M@v) for v in eigvecs_n] # eigvecs.T\n",
        "eff_mass_rel = eff_mass / np.trace(M)"
      ]
    },
    {
      "cell_type": "markdown",
      "metadata": {
        "id": "2csMncBOIOoT"
      },
      "source": [
        "## Graphical representation of the solution\n",
        "\n",
        "For graphical purpose, an extra node with null displacement has been added to the deformations vector. This node corresponds to the base level. "
      ]
    },
    {
      "cell_type": "code",
      "execution_count": null,
      "metadata": {
        "colab": {
          "base_uri": "https://localhost:8080/",
          "height": 351
        },
        "id": "iB0Jic1GH1mz",
        "outputId": "fd57dfbb-20b4-4330-b6a5-0022c7283c4d"
      },
      "outputs": [],
      "source": [
        "import matplotlib.pyplot as plt\n",
        "\n",
        "z = np.arange(0, n_stories+1)*h  # vertical position of the stories. There is an extra position for the base level\n",
        "fig, ax = plt.subplots(1,n_stories+1, sharey=True, figsize=(12,5))\n",
        "\n",
        "def plot_mode(v,i,title):\n",
        "  ax[i].plot(v,z, marker='o', markersize=12)\n",
        "  ax[i].plot(0,0, marker='s', markersize=12, markeredgecolor='gray', markerfacecolor='gray')\n",
        "  ax[i].set_title(title)\n",
        "  ax[i].margins(x=.2)\n",
        "\n",
        "plot_mode(np.zeros(n_stories+1),0,'initial')\n",
        "\n",
        "n_modes = n_stories\n",
        "for i in range(n_modes):\n",
        "  vi = eigvecs_n[i]\n",
        "  vi = np.insert(vi,0,0)    # we add a zero displacement at the base level\n",
        "  legend = f'mode {i+1}\\nT={periods[i]:.1f}s, {eff_mass_rel[i]:.1%}'\n",
        "  plot_mode(vi,i+1,legend)\n",
        "\n",
        "plt.show()"
      ]
    }
  ],
  "metadata": {
    "colab": {
      "authorship_tag": "ABX9TyOkoP7MPn1/SOTV2uktOaQY",
      "provenance": []
    },
    "kernelspec": {
      "display_name": "Python 3",
      "language": "python",
      "name": "python3"
    },
    "language_info": {
      "codemirror_mode": {
        "name": "ipython",
        "version": 3
      },
      "file_extension": ".py",
      "mimetype": "text/x-python",
      "name": "python",
      "nbconvert_exporter": "python",
      "pygments_lexer": "ipython3",
      "version": "3.8.10"
    },
    "vscode": {
      "interpreter": {
        "hash": "916dbcbb3f70747c44a77c7bcd40155683ae19c65e1c03b4aa3499c5328201f1"
      }
    }
  },
  "nbformat": 4,
  "nbformat_minor": 0
}
