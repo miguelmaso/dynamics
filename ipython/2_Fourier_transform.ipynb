{
  "nbformat": 4,
  "nbformat_minor": 0,
  "metadata": {
    "colab": {
      "provenance": [],
      "authorship_tag": "ABX9TyOBNNCHYIYsMr9yCRKBrSo/"
    },
    "kernelspec": {
      "name": "python3",
      "display_name": "Python 3"
    },
    "language_info": {
      "name": "python"
    }
  },
  "cells": [
    {
      "cell_type": "markdown",
      "source": [
        "# Fourier transform"
      ],
      "metadata": {
        "id": "rjpOIl915FhT"
      }
    },
    {
      "cell_type": "code",
      "source": [
        "import numpy as np\n",
        "import matplotlib.pyplot as plt\n",
        "from scipy.fft import fft, fftfreq"
      ],
      "metadata": {
        "id": "dHpMfv1D5DvM"
      },
      "execution_count": null,
      "outputs": []
    },
    {
      "cell_type": "code",
      "source": [
        "t_end = 10\n",
        "t = np.linspace(0, t_end)"
      ],
      "metadata": {
        "id": "ynsYzVIyEiM7"
      },
      "execution_count": null,
      "outputs": []
    },
    {
      "cell_type": "code",
      "execution_count": null,
      "metadata": {
        "id": "8bbyMfwu4-cN"
      },
      "outputs": [],
      "source": [
        "n = len(t)\n",
        "spectrum = fft(F_t)\n",
        "frequencies = fftfreq(n, t[1]/2/np.pi)[:n//2]\n",
        "plt.plot(frequencies, 2/n * np.abs(spectrum[:n//2]))\n",
        "plt.show()"
      ]
    }
  ]
}