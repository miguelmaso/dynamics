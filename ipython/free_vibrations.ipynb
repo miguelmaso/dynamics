{
  "cells": [
    {
      "cell_type": "markdown",
      "metadata": {
        "id": "BAMNrkBQjnOd"
      },
      "source": [
        "# Free vibrations\n",
        "\n",
        "In order to determine the dynamic properties of a simply supported bridge with a mass of $10^6Kg$, the midpoint is displaced $5mm$ by a jack and then suddenly released. At the end of 20 complete cycles, the time is $3s$ and the peak displacement measured is $1mm$. Determine the natural period and damping ratio of the bridge."
      ]
    },
    {
      "cell_type": "code",
      "execution_count": 1,
      "metadata": {
        "id": "EzTs6mDTkSC1"
      },
      "outputs": [],
      "source": [
        "# useful imports\n",
        "import numpy as np\n",
        "import matplotlib.pyplot as plt\n",
        "\n",
        "# problem data\n",
        "cycles = 20\n",
        "time = 3\n",
        "u_0 = 5\n",
        "u_end = 1\n",
        "m = 1e6"
      ]
    },
    {
      "cell_type": "markdown",
      "metadata": {
        "id": "vfK2Afdam1oA"
      },
      "source": [
        "Assuming a small damping, $\\sqrt{1-\\xi^2}\\rightarrow 1$, the damping ratio $\\xi$ is directly related to the decay coefficient $\\zeta$ as\n",
        "$$\n",
        "\\zeta = 2 \\pi \\xi\n",
        "$$\n",
        "and $\\zeta$ determined by the ratio among two oscillations\n",
        "$$\n",
        "\\frac{u_n}{u_{n+1}} = e^\\zeta \\quad \\rightarrow \\quad \\frac{u_0}{u_n} = e^{n\\zeta}\n",
        "$$\n"
      ]
    },
    {
      "cell_type": "code",
      "execution_count": null,
      "metadata": {
        "colab": {
          "base_uri": "https://localhost:8080/"
        },
        "id": "zxLkhw4qmGRf",
        "outputId": "a40739db-27d4-4187-fa32-cc01fffa5418"
      },
      "outputs": [],
      "source": [
        "xi = ...\n",
        "print('The damping ratio is {:.4f} or {:.2%}'.format(xi, xi))"
      ]
    },
    {
      "cell_type": "markdown",
      "metadata": {
        "id": "xaVh_QC4o-yb"
      },
      "source": [
        "## Frquency and damped frequency\n",
        "\n",
        "However, the damping ratio modifies the oscillation frequency according to\n",
        "$$\n",
        "\\bar{\\omega} = \\omega\\sqrt{1-\\xi^2}\n",
        "$$\n",
        "\n",
        "Using that expression, the damping ratio may be determined taking account of that effect\n",
        "$$\n",
        "\\frac{u_0}{u_n} = e^\\frac{2\\pi n\\xi}{\\sqrt{1-\\xi^2}}\n",
        "$$"
      ]
    },
    {
      "cell_type": "code",
      "execution_count": null,
      "metadata": {},
      "outputs": [],
      "source": [
        "xi = ...\n",
        "print('The damping ratio is {:.4f} or {:.2%}'.format(xi, xi))"
      ]
    },
    {
      "cell_type": "markdown",
      "metadata": {},
      "source": [
        "And the frequencies are identified from the number of cycles\n",
        "$$\n",
        "\\bar{\\omega}t = 2\\pi n\n",
        "$$"
      ]
    },
    {
      "cell_type": "code",
      "execution_count": null,
      "metadata": {},
      "outputs": [],
      "source": [
        "omega_d = ...\n",
        "omega = ...\n",
        "print('The damped frequency is : {:.1f}'.format(omega_d))\n",
        "print('The frequency is        : {:.1f}'.format(omega))"
      ]
    },
    {
      "cell_type": "code",
      "execution_count": null,
      "metadata": {
        "colab": {
          "base_uri": "https://localhost:8080/"
        },
        "id": "urXRc3znpW8S",
        "outputId": "e8263412-1a1b-4c86-aedf-4a48900d8dcc"
      },
      "outputs": [],
      "source": [
        "T = 2 * np.pi / omega\n",
        "print('The natural period is {:.2f} sec'.format(T))"
      ]
    },
    {
      "cell_type": "markdown",
      "metadata": {
        "id": "afm3nK9qsRkf"
      },
      "source": [
        "Finally, the equation of motion is determined by\n",
        "$$\n",
        "u(t) = C e^{-\\xi\\omega t} \\sin(\\bar\\omega t + \\phi)\n",
        "$$\n",
        "where\n",
        "$$\n",
        "C = \\sqrt{u_0^2 + \\left(\\frac{\\dot{u}_0 + \\xi \\omega u_0}{\\bar\\omega}\\right)^2}\n",
        "\\quad \\text{and} \\quad\n",
        "\\tan\\phi = \\frac{\\bar\\omega u_0}{\\dot{u}_0 + \\xi \\omega u_0}\n",
        "$$"
      ]
    },
    {
      "cell_type": "code",
      "execution_count": null,
      "metadata": {
        "colab": {
          "base_uri": "https://localhost:8080/",
          "height": 279
        },
        "id": "YKp_fxTPtzXe",
        "outputId": "4e6fbede-db74-4707-bf32-c7f3c772a5d8"
      },
      "outputs": [],
      "source": [
        "# Definition of the equation of motion\n",
        "...\n",
        "\n",
        "# Evaluation of the equation at several points\n",
        "times = np.linspace(0, time, num=200)\n",
        "displacements = ...\n",
        "\n",
        "# Plot the results\n",
        "plt.plot(times, displacements)\n",
        "plt.xlabel(\"Time (s)\")\n",
        "plt.ylabel(\"Displacement (m)\")\n",
        "plt.show()"
      ]
    },
    {
      "cell_type": "markdown",
      "metadata": {
        "id": "6pIuds9Jv2Y3"
      },
      "source": [
        "For a more comprehensive explanation, the above results can be compared against the undamped solution\n",
        "$$\n",
        "u(t) = C \\sin(\\omega t + \\phi)\n",
        "$$"
      ]
    },
    {
      "cell_type": "code",
      "execution_count": null,
      "metadata": {
        "colab": {
          "base_uri": "https://localhost:8080/",
          "height": 279
        },
        "id": "e4u5YkdpwbGC",
        "outputId": "c5968008-e679-4959-e301-76db1668e999"
      },
      "outputs": [],
      "source": [
        "undamp_displacements = ...\n",
        "exp_decay_max = ...\n",
        "esp_decay_min = ...\n",
        "\n",
        "# Plot the results\n",
        "plt.plot(times, displacements, label='Damped structure')\n",
        "plt.plot(times, undamp_displacements, label='Undamped structure')\n",
        "plt.plot(times, exp_decay_max, color='gray', linestyle='--')\n",
        "plt.plot(times, esp_decay_min, color='gray', linestyle='--')\n",
        "plt.axhline(0, color='gray', linewidth=.5)\n",
        "plt.legend()\n",
        "plt.xlabel(\"Time (s)\")\n",
        "plt.ylabel(\"Displacement (m)\")\n",
        "plt.show()"
      ]
    },
    {
      "cell_type": "markdown",
      "metadata": {
        "id": "ltyqZ8_RvYcm"
      },
      "source": [
        "Repat the problem with a higher damping, e.g., using 2 cycles"
      ]
    }
  ],
  "metadata": {
    "colab": {
      "authorship_tag": "ABX9TyNkpAZYUa+ADXMSQRnmaOIK",
      "provenance": []
    },
    "kernelspec": {
      "display_name": "Python 3",
      "name": "python3"
    },
    "language_info": {
      "codemirror_mode": {
        "name": "ipython",
        "version": 3
      },
      "file_extension": ".py",
      "mimetype": "text/x-python",
      "name": "python",
      "nbconvert_exporter": "python",
      "pygments_lexer": "ipython3",
      "version": "3.11.5"
    }
  },
  "nbformat": 4,
  "nbformat_minor": 0
}
