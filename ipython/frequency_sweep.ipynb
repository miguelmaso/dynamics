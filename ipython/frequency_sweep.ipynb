{
  "cells": [
    {
      "cell_type": "markdown",
      "metadata": {
        "id": "voobJZbyvKqN"
      },
      "source": [
        "# Frequency sweep"
      ]
    },
    {
      "cell_type": "markdown",
      "metadata": {
        "id": "r1TQ1qGkvKqO"
      },
      "source": [
        "Definition of the structure properties"
      ]
    },
    {
      "cell_type": "code",
      "execution_count": 15,
      "metadata": {
        "id": "hr48He6pvKqO"
      },
      "outputs": [],
      "source": [
        "damping = 0.05\n",
        "frequency = 8"
      ]
    },
    {
      "cell_type": "markdown",
      "metadata": {
        "id": "kTIsiD18vKqP"
      },
      "source": [
        "Definition of the structure response\n",
        "$$\n",
        "H_u = \\frac{1}{\\sqrt{(1-\\gamma^2)^2 + 4\\xi^4\\gamma^4}}\n",
        "$$\n",
        "being $\\gamma$ the ratio between the forcing $\\Omega$ and the structure $\\omega$ frequencies:\n",
        "$$\\gamma=\\Omega/\\omega$$\n",
        "and being $\\xi$ the damping of the structure."
      ]
    },
    {
      "cell_type": "code",
      "execution_count": 16,
      "metadata": {
        "id": "v-qnUcpgvKqP"
      },
      "outputs": [],
      "source": [
        "def DynamicMagnification(forcing_frequency):\n",
        "    pass"
      ]
    },
    {
      "cell_type": "markdown",
      "metadata": {
        "id": "KgKX-7vYvKqP"
      },
      "source": [
        "Now, we will define a frequency seep of the forcing action. For this purpose, we will use a range of values representing the domain of the forcing frequencies. Then, we will evaluate the structural response for each possible frequency of the action."
      ]
    },
    {
      "cell_type": "code",
      "execution_count": 17,
      "metadata": {
        "id": "5GiTqvvrvKqP"
      },
      "outputs": [],
      "source": [
        "forcing_frequencies = np.linspace(0, 24, 100)  # by default, the number of sampling points is 50\n",
        "response = DynamicMagnification(forcing_frequencies)"
      ]
    },
    {
      "cell_type": "markdown",
      "metadata": {
        "id": "tey7BqU1vKqP"
      },
      "source": [
        "Finally, the response can be plotted as a function of the forcing frequencies. Very often, the forcing frequency is expressed as an unitary frequency:"
      ]
    },
    {
      "cell_type": "code",
      "execution_count": null,
      "metadata": {
        "colab": {
          "base_uri": "https://localhost:8080/",
          "height": 265
        },
        "id": "NA4aKou7vKqQ",
        "outputId": "08e69314-85e1-4ba0-fc0a-1644a31c2d59"
      },
      "outputs": [],
      "source": [
        "import matplotlib.pyplot as plt\n",
        "\n",
        "unit_frequencies = forcing_frequencies / frequency\n",
        "plt.axvspan(0,0.5,color='lightgrey')\n",
        "plt.axvspan(1.5,3,color='lightgrey')\n",
        "plt.axhline(1,color='grey',linewidth=.5)\n",
        "plt.text(0.25,4,'Static\\nresponse',horizontalalignment='center',verticalalignment='center')\n",
        "plt.text(1.00,4,'Resonance',horizontalalignment='center')\n",
        "plt.text(2.25,4,'Vibration Isolation',horizontalalignment='center')\n",
        "plt.xlabel('$\\gamma=\\Omega/\\omega$')\n",
        "plt.ylabel('$H_u$')\n",
        "plt.plot(unit_frequencies,response)\n",
        "plt.show()"
      ]
    },
    {
      "cell_type": "markdown",
      "metadata": {
        "id": "st5BaCfAvKqQ"
      },
      "source": [
        "## Influence of damping\n",
        "\n",
        "When the structure is close to resonance, the response is governed by the damping. In the most unfavorable case $\\Omega=\\omega$ and $\\gamma=1$, then, the dynamic magnification factor is reduced to the following expression:\n",
        "$$\n",
        "H = \\frac{1}{2\\xi}\n",
        "$$\n",
        "\n",
        "For the analysis of the influence of damping, we will define a set of structures with different damping ratio."
      ]
    },
    {
      "cell_type": "code",
      "execution_count": null,
      "metadata": {
        "colab": {
          "base_uri": "https://localhost:8080/",
          "height": 265
        },
        "id": "ok2sSfTUvKqQ",
        "outputId": "1e6a6e80-09db-4b19-c000-c7cbe32712ea"
      },
      "outputs": [],
      "source": [
        "dampings = [0.02, 0.05, 0.1]\n",
        "for damping in dampings:\n",
        "    response = DynamicMagnification(forcing_frequencies, damping)\n",
        "    plt.plot(unit_frequencies,response,label=fr'$\\xi$={damping:.0%}',color='tab:blue',alpha=10*damping)\n",
        "    # note about the label format:\n",
        "    # the 'f' leading character allows the replacement of variables inside the string enclosed by curly braces {}\n",
        "    # the 'r' character is allowing the special character '\\' and thus, writing greek letters insde latex environment $...$\n",
        "    # the sequence '.0%' after the colon is telling how to print: 0 decimal places and percent format\n",
        "plt.legend()\n",
        "plt.xlabel('$\\gamma=\\Omega/\\omega$')\n",
        "plt.ylabel('$H_u$')\n",
        "plt.show()"
      ]
    },
    {
      "cell_type": "markdown",
      "metadata": {},
      "source": [
        "## Acceleration magnification\n",
        "\n",
        "$$\n",
        "H_a = \\frac{\\gamma^2}{\\sqrt{(1-\\gamma^2)^2 + 4\\xi^2\\gamma^2}}\n",
        "$$"
      ]
    }
  ],
  "metadata": {
    "colab": {
      "provenance": []
    },
    "kernelspec": {
      "display_name": "Python 3",
      "language": "python",
      "name": "python3"
    },
    "language_info": {
      "codemirror_mode": {
        "name": "ipython",
        "version": 3
      },
      "file_extension": ".py",
      "mimetype": "text/x-python",
      "name": "python",
      "nbconvert_exporter": "python",
      "pygments_lexer": "ipython3",
      "version": "3.11.5"
    },
    "orig_nbformat": 4,
    "vscode": {
      "interpreter": {
        "hash": "916dbcbb3f70747c44a77c7bcd40155683ae19c65e1c03b4aa3499c5328201f1"
      }
    }
  },
  "nbformat": 4,
  "nbformat_minor": 0
}
