{
  "cells": [
    {
      "cell_type": "markdown",
      "metadata": {
        "id": "ge5Y9-Lj-C5E"
      },
      "source": [
        "# Natural frequency of a traffic signal 🚏\n",
        "\n",
        "The purpose of this notebook is to find an approximate value of the frequency of a traffic signal. The Rayleigh's method will be used to reduce the continuous structure into a single degree of freedom system."
      ]
    },
    {
      "cell_type": "markdown",
      "metadata": {
        "id": "BO9W_o6dP6hR"
      },
      "source": [
        "## Geometry definitions\n",
        "\n",
        "Before solving the Rayleigh integrals, some auxiliary functions can be defined to calculate the structural properties -linear density, inertia, point mass- from the geometric definition.\n",
        "\n",
        "To avoid conversion errors, all the units are in *international system*."
      ]
    },
    {
      "cell_type": "code",
      "execution_count": null,
      "metadata": {
        "id": "JPCCO9KK-B3i"
      },
      "outputs": [],
      "source": [
        "from math import pi, sqrt\n",
        "\n",
        "steel_density = 7700     # kg/m3\n",
        "young_modulus = 210*1e9  # N/m2\n",
        "\n",
        "def CircularSignal(diameter, thickness):                        # Input dimensions in m\n",
        "    return steel_density * thickness * pi * 0.25 * diameter**2  # kg\n",
        "\n",
        "def SquareSignal(width, height, thickness):            # Input dimensions in m\n",
        "    return steel_density * thickness * width * height  # kg\n",
        "\n",
        "def CircularCrossSection(diameter, thickness):                                  # Input dimensions in m\n",
        "    linear_density = steel_density * thickness * pi * diameter                  # kg/m\n",
        "    EI = young_modulus * 1/64 * pi * (diameter**4 - (diameter-2*thickness)**4)  # N*m2\n",
        "    return linear_density, EI\n",
        "\n",
        "def RectangularCrossSection(width, depth, thickness):                                          # Input dimensions in m\n",
        "    linear_density = steel_density * thickness * 2 * (width+depth)                             # kg/m\n",
        "    EI = young_modulus * 1/12 * (width*depth**3 - (width-2*thickness)*(depth-2*thickness)**3)  # N*m2\n",
        "    return linear_density, EI"
      ]
    },
    {
      "cell_type": "markdown",
      "metadata": {},
      "source": [
        " ## Rayleigh's method\n",
        "\n",
        "The traffic signal is a structure clamped at the bottom and free at the top. Hence, a second order polynomial is choosen as shape function:\n",
        "$$\n",
        "\\psi = \\frac{z^2}{h^2} \\\\\n",
        "\\psi´´ = \\frac{2}{h^2}\n",
        "$$\n",
        "which satisfies the kynematic boundary conditions $\\psi(0)=\\psi'(0)=0$.\n",
        "\n",
        "The frequency is obtained after some algebra using the Rayleigh's expressions:\n",
        "\\begin{align*}\n",
        "m &= \\int_0^h \\rho A\\psi^2 dz + \\sum \\psi_i^2 m_i = \\frac{1}{5} \\rho A h + m_1 \\\\\n",
        "k &= {\\displaystyle \\int_0^h EI\\psi''^2 dz} = 4 \\frac{EI}{h^3} \\\\\n",
        "\\end{align*}"
      ]
    },
    {
      "cell_type": "code",
      "execution_count": null,
      "metadata": {
        "id": "Kq5gA6t9VtC6"
      },
      "outputs": [],
      "source": [
        "def NaturalFrequencyPoly(EI, lin_density, top_mass, height):\n",
        "    m = lin_density * height / 5 + top_mass\n",
        "    k = 4 * EI / height**3\n",
        "    frequency = sqrt(k/m)           # rad/s\n",
        "    nat_frequency = frequency/2/pi  # Hz\n",
        "    return nat_frequency"
      ]
    },
    {
      "cell_type": "markdown",
      "metadata": {},
      "source": [
        "### Trigonometric shape function\n",
        "\n",
        "$$\n",
        "\\psi = 1 - \\cos(2\\pi z/h) \\\\\n",
        "\\psi´´ = \\frac{4\\pi^2}{h^2}\\cos(2\\pi z/h)\n",
        "$$"
      ]
    },
    {
      "cell_type": "code",
      "execution_count": null,
      "metadata": {
        "id": "TR55-2OmS1Ps"
      },
      "outputs": [],
      "source": [
        "def NaturalFrequencyTrig(EI, lin_density, top_mass, height):\n",
        "    m = lin_density * height * (3/2 -4/pi) + top_mass\n",
        "    k = EI * pi**4 / height**3 / 32\n",
        "    frequency = sqrt(k/m)           # rad/s\n",
        "    nat_frequency = frequency/2/pi  # Hz\n",
        "    return nat_frequency"
      ]
    },
    {
      "cell_type": "markdown",
      "metadata": {
        "id": "mbZ6kxOcWtOj"
      },
      "source": [
        "## Calculations"
      ]
    },
    {
      "cell_type": "code",
      "execution_count": null,
      "metadata": {
        "colab": {
          "base_uri": "https://localhost:8080/"
        },
        "id": "BlZTp1YSlqpQ",
        "outputId": "2efecc51-aefa-48e9-a1ff-83475f2f6ca6"
      },
      "outputs": [],
      "source": [
        "rho1, EI1 = RectangularCrossSection(width=.080, depth=.040, thickness=.001)\n",
        "signal_mass1 = CircularSignal(diameter=.600, thickness=.001)\n",
        "\n",
        "nat_frequency = NaturalFrequencyPoly(EI1, rho1, signal_mass1, height=3.5)\n",
        "\n",
        "print(f'Natural frequency: {nat_frequency:.1f} Hz')"
      ]
    },
    {
      "cell_type": "code",
      "execution_count": null,
      "metadata": {
        "colab": {
          "base_uri": "https://localhost:8080/"
        },
        "id": "oY9EM63rYR8L",
        "outputId": "10cfcae7-64a1-4b58-e505-263645542365"
      },
      "outputs": [],
      "source": [
        "rho2, EI2 = CircularCrossSection(diameter=.060, thickness=.001)\n",
        "signal_mass2 = CircularSignal(diameter=.650, thickness=.001)\n",
        "signal_mass2 += SquareSignal(width=.600, height=.800, thickness=.001)\n",
        "\n",
        "nat_frequency = NaturalFrequencyPoly(EI2, rho2, signal_mass2, height=3)\n",
        "\n",
        "print(f'Natural frequency: {nat_frequency:.1f} Hz')"
      ]
    },
    {
      "cell_type": "code",
      "execution_count": null,
      "metadata": {
        "colab": {
          "base_uri": "https://localhost:8080/"
        },
        "id": "Ok0ftTxdTW6E",
        "outputId": "0c46ca3d-17ab-4fec-da8c-117ea77de1c6"
      },
      "outputs": [],
      "source": [
        "nat_frequency = NaturalFrequencyTrig(EI1, rho1, signal_mass1, height=3)\n",
        "\n",
        "print(f'Natural frequency: {nat_frequency:.1f} Hz')"
      ]
    }
  ],
  "metadata": {
    "colab": {
      "provenance": []
    },
    "kernelspec": {
      "display_name": "Python 3",
      "name": "python3"
    },
    "language_info": {
      "codemirror_mode": {
        "name": "ipython",
        "version": 3
      },
      "file_extension": ".py",
      "mimetype": "text/x-python",
      "name": "python",
      "nbconvert_exporter": "python",
      "pygments_lexer": "ipython3",
      "version": "3.13.5"
    }
  },
  "nbformat": 4,
  "nbformat_minor": 0
}
