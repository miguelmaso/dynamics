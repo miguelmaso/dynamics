{
  "cells": [
    {
      "cell_type": "markdown",
      "metadata": {
        "id": "ge5Y9-Lj-C5E"
      },
      "source": [
        "# Natural frequency of a traffic signal 🚏\n",
        "\n",
        "In this notebook we are going to find an approximate value of the frequency of a traffic signal. We will use the Rayleigh's method to approximate the signal to a one degree of freedom structure."
      ]
    },
    {
      "cell_type": "markdown",
      "metadata": {
        "id": "BO9W_o6dP6hR"
      },
      "source": [
        "## Geometry definitions\n",
        "\n",
        "First of all, we will define the material properties (density $\\rho$ and Young modulus $E$) and the sections. The mast has a constant cross section with a given area ($A$) and intertia modulus ($I$). Then, a constant linear density ($\\rho A$) and constant stiffness ($EI$) is defined. The traffic signal on top is considered as a concentrated mass."
      ]
    },
    {
      "cell_type": "code",
      "execution_count": 1,
      "metadata": {
        "id": "JPCCO9KK-B3i"
      },
      "outputs": [],
      "source": [
        "from math import pi, sqrt\n",
        "\n",
        "steel_density = 7.7      # T/m3\n",
        "young_modulus = 210*1e6  # kPa\n",
        "\n",
        "class CircularSignal:\n",
        "    def __init__(self, diameter, thickness):  # Input dimensions in mm\n",
        "        self.mass = steel_density * thickness * pi * 0.25 * diameter**2 * 1e-9  # T\n",
        "\n",
        "class SquareSignal:\n",
        "    def __init__(self, width, height, thickness):  # Input dimensions in mm\n",
        "        self.mass = steel_density * thickness * width * height * 1e-9  # T\n",
        "\n",
        "class CircularSection:\n",
        "    def __init__(self, diameter, thickness):  # Input dimensions in mm\n",
        "        self.linear_density = steel_density * thickness * pi * diameter * 1e-6                          # T/m\n",
        "        self.stiffness = young_modulus * 1/64 * pi * (diameter**4 - (diameter-2*thickness)**4) * 1e-12  # kN*m2\n",
        "\n",
        "class RectangularSection:\n",
        "    def __init__(self, width, depth, thickness):  # Input dimensions in mm\n",
        "        self.linear_density = steel_density * thickness * 2 * (width+depth) * 1e-6                                     # T/m\n",
        "        self.stiffness = young_modulus * 1/12 * (width*depth**3 - (width-2*thickness)*(depth-2*thickness)**3) * 1e-12  # kN*m2"
      ]
    },
    {
      "cell_type": "markdown",
      "metadata": {
        "id": "L5KhEir6EVLQ"
      },
      "source": [
        " ## Rayleigh's method\n",
        "\n",
        "The traffic signal is a structure clamped at the bottom and free at the top. Hence, a second order polynomial is choosen as shape function:\n",
        "$$\n",
        "\\psi = \\frac{z^2}{h^2} \\\\\n",
        "\\psi'' = \\frac{2}{h^2}\n",
        "$$\n",
        "which satisfies the kynematic boundary conditions $\\psi(0)=\\psi'(0)=0$.\n",
        "\n",
        "The frequency is obtained after some algebra using the Rayleigh's expressions:\n",
        "\\begin{align*}\n",
        "m &= \\int_0^h \\rho A\\psi^2 dz + \\sum \\psi_i^2 m_i = \\frac{1}{5} \\rho A h + m_1 \\\\\n",
        "k &= {\\displaystyle \\int_0^h EI\\psi''^2 dz} = 4 \\frac{EI}{h^3}\\\\\n",
        "w^2 &= \\frac{k}{m}\n",
        "\\end{align*}"
      ]
    },
    {
      "cell_type": "code",
      "execution_count": 2,
      "metadata": {
        "id": "Kq5gA6t9VtC6"
      },
      "outputs": [],
      "source": [
        "def NaturalFrequencyPoly(mast_section, signal_shape, height):\n",
        "    signal_shapes = signal_shape if isinstance(signal_shape, list) else [signal_shape]\n",
        "    point_mass = sum([s.mass for s in signal_shapes])\n",
        "    m = mast_section.linear_density * height / 5 + point_mass\n",
        "    k = 4 * mast_section.stiffness / height**3\n",
        "    frequency = sqrt(k/m)           # rad/s\n",
        "    nat_frequency = frequency/2/pi  # Hz\n",
        "    return nat_frequency"
      ]
    },
    {
      "cell_type": "code",
      "execution_count": 3,
      "metadata": {
        "id": "TR55-2OmS1Ps"
      },
      "outputs": [],
      "source": [
        "def NaturalFrequencyTrig(mast_section, signal_shape, height):\n",
        "    signal_shapes = signal_shape if isinstance(signal_shape, list) else [signal_shape]\n",
        "    point_mass = sum([s.mass for s in signal_shapes])\n",
        "    m = mast_section.linear_density * height * (3/2 -4/pi) + point_mass\n",
        "    k = mast_section.stiffness * pi**4 / height**3 / 32\n",
        "    frequency = sqrt(k/m)           # rad/s\n",
        "    nat_frequency = frequency/2/pi  # Hz\n",
        "    return nat_frequency"
      ]
    },
    {
      "cell_type": "markdown",
      "metadata": {
        "id": "mbZ6kxOcWtOj"
      },
      "source": [
        "## Calculations"
      ]
    },
    {
      "cell_type": "code",
      "execution_count": 4,
      "metadata": {
        "colab": {
          "base_uri": "https://localhost:8080/"
        },
        "id": "BlZTp1YSlqpQ",
        "outputId": "2efecc51-aefa-48e9-a1ff-83475f2f6ca6"
      },
      "outputs": [
        {
          "name": "stdout",
          "output_type": "stream",
          "text": [
            "Natural frequency: 3.2 Hz\n"
          ]
        }
      ],
      "source": [
        "mast = RectangularSection(width=80, depth=40, thickness=1)  # section dimensions in mm\n",
        "signal = CircularSignal(diameter=600, thickness=1)          # section dimensions in mm\n",
        "\n",
        "nat_frequency = NaturalFrequencyPoly(mast, signal, height=3.5)    # structure dimensions in m\n",
        "\n",
        "print(f'Natural frequency: {nat_frequency:.1f} Hz')"
      ]
    },
    {
      "cell_type": "code",
      "execution_count": 5,
      "metadata": {
        "colab": {
          "base_uri": "https://localhost:8080/"
        },
        "id": "oY9EM63rYR8L",
        "outputId": "10cfcae7-64a1-4b58-e505-263645542365"
      },
      "outputs": [
        {
          "name": "stdout",
          "output_type": "stream",
          "text": [
            "Natural frequency: 3.0 Hz\n"
          ]
        }
      ],
      "source": [
        "mast = CircularSection(diameter=60, thickness=1)            # section dimensions in mm\n",
        "signal = CircularSignal(diameter=650, thickness=1)          # section dimensions in mm\n",
        "signal2 = SquareSignal(width=600, height=800, thickness=1)  # section dimensions in mm\n",
        "\n",
        "nat_frequency = NaturalFrequencyPoly(mast, [signal, signal2], height=3)    # structure dimensions in m\n",
        "\n",
        "print(f'Natural frequency: {nat_frequency:.1f} Hz')"
      ]
    },
    {
      "cell_type": "code",
      "execution_count": 6,
      "metadata": {
        "colab": {
          "base_uri": "https://localhost:8080/"
        },
        "id": "Ok0ftTxdTW6E",
        "outputId": "0c46ca3d-17ab-4fec-da8c-117ea77de1c6"
      },
      "outputs": [
        {
          "name": "stdout",
          "output_type": "stream",
          "text": [
            "Natural frequency: 2.6 Hz\n"
          ]
        }
      ],
      "source": [
        "nat_frequency = NaturalFrequencyTrig(mast, [signal, signal2], height=3)    # structure dimensions in m\n",
        "\n",
        "print(f'Natural frequency: {nat_frequency:.1f} Hz')"
      ]
    }
  ],
  "metadata": {
    "colab": {
      "provenance": []
    },
    "kernelspec": {
      "display_name": "Python 3",
      "name": "python3"
    },
    "language_info": {
      "codemirror_mode": {
        "name": "ipython",
        "version": 3
      },
      "file_extension": ".py",
      "mimetype": "text/x-python",
      "name": "python",
      "nbconvert_exporter": "python",
      "pygments_lexer": "ipython3",
      "version": "3.11.5"
    }
  },
  "nbformat": 4,
  "nbformat_minor": 0
}
