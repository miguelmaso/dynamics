{
  "nbformat": 4,
  "nbformat_minor": 0,
  "metadata": {
    "colab": {
      "provenance": []
    },
    "kernelspec": {
      "name": "python3",
      "display_name": "Python 3"
    },
    "language_info": {
      "name": "python"
    }
  },
  "cells": [
    {
      "cell_type": "markdown",
      "source": [
        "# Natural frequency of a traffic signal 🚏\n",
        "\n",
        "In this notebook we are going to find an approximate value of the frequency of a traffic signal. We will use the Rayleigh's method to approximate the signal to a one degree of freedom structure."
      ],
      "metadata": {
        "id": "ge5Y9-Lj-C5E"
      }
    },
    {
      "cell_type": "markdown",
      "source": [
        "## Definitions\n",
        "\n",
        "First of all, we will define the material properties (density $\\rho$ and Young modulus $E$) and the sections. The mast has a constant cross section with a given area ($A$) and intertia modulus ($I$). Then, a constant linear density ($\\rho A$) and constant stiffness ($EI$) is defined. The traffic signal on top is considered as a concentrated mass."
      ],
      "metadata": {
        "id": "BO9W_o6dP6hR"
      }
    },
    {
      "cell_type": "code",
      "execution_count": 11,
      "metadata": {
        "id": "JPCCO9KK-B3i"
      },
      "outputs": [],
      "source": [
        "from math import pi, sqrt\n",
        "\n",
        "steel_density = 7.7      # T/m3\n",
        "young_modulus = 210*1e6  # kPa\n",
        "\n",
        "class CircularSignal:\n",
        "    def __init__(self, diameter, thickness):\n",
        "        self.mass = steel_density * thickness * pi * 0.25 * diameter**2 * 1e-9  # T\n",
        "\n",
        "class SquareSignal:\n",
        "    def __init__(self, width, height, thickness):\n",
        "        self.mass = steel_density * thickness * width * height * 1e-9  # T\n",
        "\n",
        "class CircularSection:\n",
        "    def __init__(self, diameter, thickness):\n",
        "        self.linear_density = steel_density * thickness * pi * diameter * 1e-6                          # T/m\n",
        "        self.stiffness = young_modulus * 1/64 * pi * (diameter**4 - (diameter-2*thickness)**4) * 1e-12  # kN*m2\n",
        "\n",
        "class RectangularSection:\n",
        "    def __init__(self, width, depth, thickness):\n",
        "        self.linear_density = steel_density * thickness * 2 * (width+depth) * 1e-6                                     # T/m\n",
        "        self.stiffness = young_modulus * 1/12 * (width*depth**3 - (width-2*thickness)*(depth-2*thickness)**3) * 1e-12  # kN*m2"
      ]
    },
    {
      "cell_type": "markdown",
      "source": [
        " ## Rayleigh's method\n",
        "\n",
        "The traffic signal is a structure clamped at the bottom and free at the top. Hence, a second order polynomial is choosen as shape function:\n",
        "$$\n",
        "\\psi = \\frac{z^2}{h^2} \\\\\n",
        "\\psi'' = \\frac{2}{h^2}\n",
        "$$\n",
        "which satisfies the kynematic boundary conditions $\\psi(0)=\\psi'(0)=0$.\n",
        "\n",
        "The frequency is obtained after some algebra using the Rayleigh's expressions:\n",
        "\\begin{align*}\n",
        "m &= \\int_0^h \\rho A\\psi^2 dz + \\sum \\psi_i^2 m_i = \\frac{1}{5} \\rho A h + m_1 \\\\\n",
        "k &= {\\displaystyle \\int_0^h EI\\psi''^2 dz} = 4 \\frac{EI}{h^3}\\\\\n",
        "w^2 &= \\frac{k}{m}\n",
        "\\end{align*}"
      ],
      "metadata": {
        "id": "L5KhEir6EVLQ"
      }
    },
    {
      "cell_type": "code",
      "source": [
        "def NaturalFrequency(mast_section, signal_shape, height):\n",
        "    m = mast_section.linear_density * height / 5 + signal_shape.mass\n",
        "    k = 4 * mast_section.stiffness / height**3\n",
        "    frequency = sqrt(k/m)           # rad/s\n",
        "    nat_frequency = frequency/2/pi  # Hz\n",
        "    return nat_frequency"
      ],
      "metadata": {
        "id": "Kq5gA6t9VtC6"
      },
      "execution_count": 19,
      "outputs": []
    },
    {
      "cell_type": "markdown",
      "source": [
        "## Calculations"
      ],
      "metadata": {
        "id": "mbZ6kxOcWtOj"
      }
    },
    {
      "cell_type": "code",
      "source": [
        "mast = RectangularSection(width=80, depth=40, thickness=1)  # section dimensions in mm\n",
        "signal = CircularSignal(diameter=600, thickness=1)          # section dimensions in mm\n",
        "\n",
        "nat_frequency = NaturalFrequency(mast, signal, height=3)    # structure dimensions in m\n",
        "\n",
        "print(f'Natural frequency: {nat_frequency:.1f} Hz')"
      ],
      "metadata": {
        "colab": {
          "base_uri": "https://localhost:8080/"
        },
        "id": "BlZTp1YSlqpQ",
        "outputId": "7e0cee25-988c-43f6-a196-c1f9c27f4a32"
      },
      "execution_count": 23,
      "outputs": [
        {
          "output_type": "stream",
          "name": "stdout",
          "text": [
            "Natural frequency: 4.1 Hz\n"
          ]
        }
      ]
    },
    {
      "cell_type": "code",
      "source": [
        "mast = CircularSection(diameter=60, thickness=1)            # section dimensions in mm\n",
        "signal = CircularSignal(diameter=600, thickness=1)          # section dimensions in mm\n",
        "\n",
        "nat_frequency = NaturalFrequency(mast, signal, height=3)    # structure dimensions in m\n",
        "\n",
        "print(f'Natural frequency: {nat_frequency:.1f} Hz')"
      ],
      "metadata": {
        "colab": {
          "base_uri": "https://localhost:8080/"
        },
        "id": "oY9EM63rYR8L",
        "outputId": "ecbf3ebc-b435-4297-809a-99a21f6fe6b5"
      },
      "execution_count": 22,
      "outputs": [
        {
          "output_type": "stream",
          "name": "stdout",
          "text": [
            "Natural frequency: 4.6 Hz\n"
          ]
        }
      ]
    }
  ]
}