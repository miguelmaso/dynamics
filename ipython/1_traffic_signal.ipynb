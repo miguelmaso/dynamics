{
  "nbformat": 4,
  "nbformat_minor": 0,
  "metadata": {
    "colab": {
      "provenance": []
    },
    "kernelspec": {
      "name": "python3",
      "display_name": "Python 3"
    },
    "language_info": {
      "name": "python"
    }
  },
  "cells": [
    {
      "cell_type": "markdown",
      "source": [
        "# Modal analysis of a traffic signal 🚏\n",
        "\n",
        "In this notebook we are going to find an approximate value of the frequency of a traffic signal. We will use the Rayleigh's method.\n",
        "\n",
        "Two assumptions are made, the traffic signal is circular and and the mast has a rectangular cross section."
      ],
      "metadata": {
        "id": "ge5Y9-Lj-C5E"
      }
    },
    {
      "cell_type": "code",
      "execution_count": 5,
      "metadata": {
        "id": "JPCCO9KK-B3i"
      },
      "outputs": [],
      "source": [
        "from math import pi, sqrt\n",
        "\n",
        "steel_density = 77       # kN/m3\n",
        "young_modulus = 210*1e6  # kPa\n",
        "\n",
        "class CircularSignal:\n",
        "    def __init__(self, diameter, thickness):\n",
        "        self.mass = steel_density * thickness * pi * 0.25 * diameter**2 * 1e-9  # kN\n",
        "\n",
        "class SquareSignal:\n",
        "    def __init__(self, width, height, thickness):\n",
        "        self.mass = steel_density * thickness * width * height * 1e-9  # kN\n",
        "\n",
        "class CircularSection:\n",
        "    def __init__(self, diameter, thickness):\n",
        "        self.linear_density = steel_density * thickness * pi * diameter * 1e-6                        # kN/m\n",
        "        self.stiffness = young_modulus * 1/64 * pi * (diameter**4 + (diameter-thickness)**4) * 1e-12  # kN*m2\n",
        "\n",
        "class RectangularSection:\n",
        "    def __init__(self, width, depth, thickness):\n",
        "        self.linear_density = steel_density * thickness * 2 * (width+depth) * 1e-6                                 # kN/m\n",
        "        self.stiffness = young_modulus * 1/12 * (width*depth**3 - (width-thickness)*(depth-thickness)**3) * 1e-12  # kN*m2"
      ]
    },
    {
      "cell_type": "markdown",
      "source": [
        " ## Rayleigh's method\n",
        "\n",
        "The structure is clamped at the bottom and free at the top. Hence, a second order polynomial is choosen as shape function:\n",
        "$$\n",
        "\\psi = \\frac{z^2}{h^2} \\\\\n",
        "\\psi'' = \\frac{2}{h^2}\n",
        "$$\n",
        "which satisfies the kynematic boundary conditions $\\psi(0)=\\psi'(0)=0$.\n",
        "\n",
        "The frequency is obtained after some algebra:\n",
        "\\begin{align}\n",
        "m &= \\int_0^h \\rho A\\psi^2 dz + \\sum \\psi_i^2 m_i = \\rho A \\frac{1}{5}h + m_1 \\\\\n",
        "k &= \\int_0^h EI\\psi''^2 dz = EI \\frac{4}{h^3}\\\\\n",
        "w^2 &= \\frac{k}{m}\n",
        "\\end{align}"
      ],
      "metadata": {
        "id": "L5KhEir6EVLQ"
      }
    },
    {
      "cell_type": "code",
      "source": [
        "mast_section = RectangularSection(width=60, depth=30, thickness=3)\n",
        "signal_shape = CircularSignal(diameter=400, thickness=2)\n",
        "height = 2.5  # m\n",
        "\n",
        "m = mast_section.linear_density * height / 5 + signal_shape.mass\n",
        "k = mast_section.stiffness * 4 / height**3\n",
        "frequency = sqrt(k/m)           # rad/s\n",
        "nat_frequency = frequency/2/pi  # Hz\n",
        "\n",
        "print(f'Natural frequency: {nat_frequency:.1f} Hz')"
      ],
      "metadata": {
        "id": "BlZTp1YSlqpQ",
        "outputId": "7d032f14-d8a3-4add-8902-bc4fe6dac863",
        "colab": {
          "base_uri": "https://localhost:8080/"
        }
      },
      "execution_count": 13,
      "outputs": [
        {
          "output_type": "stream",
          "name": "stdout",
          "text": [
            "Natural frequency: 1.2 Hz\n"
          ]
        }
      ]
    }
  ]
}