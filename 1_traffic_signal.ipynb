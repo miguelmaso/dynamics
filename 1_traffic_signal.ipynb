{
  "nbformat": 4,
  "nbformat_minor": 0,
  "metadata": {
    "colab": {
      "provenance": [],
      "authorship_tag": "ABX9TyPnK8UV5X8B+bkyMHLkyY/L"
    },
    "kernelspec": {
      "name": "python3",
      "display_name": "Python 3"
    },
    "language_info": {
      "name": "python"
    }
  },
  "cells": [
    {
      "cell_type": "markdown",
      "source": [
        "# Modal analysis of a traffic signal 🚏\n",
        "\n",
        "In this notebook we are going to find an approximate value of the frequency of a traffic signal using the Rayleigh's method.\n",
        "\n",
        "The shape of the signal is circular and and the mast has a rectangular cross section."
      ],
      "metadata": {
        "id": "ge5Y9-Lj-C5E"
      }
    },
    {
      "cell_type": "code",
      "execution_count": null,
      "metadata": {
        "id": "JPCCO9KK-B3i"
      },
      "outputs": [],
      "source": [
        "steel_density = 77  # kN/m3\n",
        "young_modulus = 210 # GPa\n",
        "\n",
        "signal_diameter  = 600 # mm\n",
        "signal_thickness = 2   # mm\n",
        "\n",
        "mast_height    = 2.5 # m\n",
        "mast_b         = 60  # mm\n",
        "mast_c         = 30  # mm\n",
        "mast_thickness = 3   # mm"
      ]
    },
    {
      "cell_type": "markdown",
      "source": [
        " ## Rayleigh's method\n",
        "\n",
        "The structure is clamped at the bottom and free at the top. Hence, a parabola is choosen as shape function:\n",
        "$$\n",
        "\\psi = \\frac{z^2}{h^2} \\\\\n",
        "\\psi'' = \\frac{2}{h^2}\n",
        "$$\n",
        "which satisfies the kynematic boundary conditions $\\psi(0)=\\psi'(0)=0$.\n",
        "\n",
        "And the frequency is obtained after some algebra:\n",
        "\\begin{align}\n",
        "m &= \\int_0^h \\rho A\\psi^2 dz + \\sum \\psi_i^2 m_i\\\\\n",
        "k &= \\int_0^h EI\\psi''^2 dz \\\\\n",
        "w^2 &= \\frac{k}{m}\n",
        "\\end{align}"
      ],
      "metadata": {
        "id": "L5KhEir6EVLQ"
      }
    },
    {
      "cell_type": "code",
      "source": [
        "from math import pi, sqrt\n",
        "\n",
        "area = 2 * mast_thickness * (mast_b + mast_c)*1e-6  # m2\n",
        "inertia = mast_b * mast_c**3 / 12 *1e-12            # m4\n",
        "signal_mass = signal_thickness * pi * signal_diameter**2/4 * steel_density*1e-9  # kN\n",
        "\n",
        "m = steel_density * area * mast_height / 5 + signal_mass  # kN\n",
        "k = 4 * young_modulus * inertia / mast_height**3 *1e6     # kN/m\n",
        "frequency = sqrt(k/m)           # rad/s\n",
        "nat_frequency = frequency/2/pi  # Hz\n",
        "\n",
        "print(f'Natural frequency: {nat_frequency:.1f} Hz')"
      ],
      "metadata": {
        "colab": {
          "base_uri": "https://localhost:8080/"
        },
        "id": "_fJbYE-CBjYc",
        "outputId": "7392456b-6bdb-4e90-a0b9-33f32de3a330"
      },
      "execution_count": null,
      "outputs": [
        {
          "output_type": "stream",
          "name": "stdout",
          "text": [
            "Natural frequency: 1.7 Hz\n"
          ]
        }
      ]
    }
  ]
}